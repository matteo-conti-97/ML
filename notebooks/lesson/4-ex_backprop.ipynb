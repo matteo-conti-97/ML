{
 "cells": [
  {
   "cell_type": "markdown",
   "id": "f5259f21-8fd3-4846-8582-8099557fa31a",
   "metadata": {},
   "source": [
    "# Exercise: Backpropagation\n",
    "\n",
    "We compute the gradient of a 2-layer NN applying backpropagation (full description in the slides).\n",
    "\n"
   ]
  },
  {
   "cell_type": "code",
   "execution_count": 1,
   "id": "88e1c24f-d081-4688-80f2-3520f4a255d3",
   "metadata": {},
   "outputs": [],
   "source": [
    "import numpy as np\n",
    "\n",
    "# In this trivial example, the training set contains all the possible input configurations\n",
    "x = np.array([0.5, 0.1])\n",
    "W1 = np.array([[0.15,0.2], [0.25, 0.3]])\n",
    "W2 = np.array([[0.4,0.45], [0.5, 0.55]])\n",
    "\n",
    "b1 = np.array([0.35, 0.35])\n",
    "b2 = np.array([0.6, 0.6])\n",
    "\n",
    "t = np.array([0.01, 0.99])\n",
    "\n",
    "def loss (y, target):\n",
    "    return 0.5*np.linalg.norm(y-target, ord=2)**2\n",
    "\n",
    "def logistic (x):\n",
    "    return 1/(1 + np.exp(-x))\n",
    "     \n"
   ]
  },
  {
   "cell_type": "markdown",
   "id": "3ae25eae-f686-4e22-abb2-eba4299122d7",
   "metadata": {},
   "source": [
    "## Forward pass"
   ]
  },
  {
   "cell_type": "code",
   "execution_count": 2,
   "id": "0afc50cb-46f6-418e-85b5-811391a27631",
   "metadata": {},
   "outputs": [
    {
     "name": "stdout",
     "output_type": "stream",
     "text": [
      "a1 = [0.445 0.505]\n",
      "h = [0.60944978 0.62363363]\n",
      "a2 = [1.12441505 1.24772339]\n",
      "y = [0.75480674 0.77690552]\n",
      "Loss = 0.30007317134663797\n"
     ]
    }
   ],
   "source": [
    "a1 = np.dot(W1,x)+b1\n",
    "print(f\"a1 = {a1}\")\n",
    "\n",
    "h = logistic(a1)\n",
    "print(f\"h = {h}\")\n",
    "\n",
    "a2 = np.dot(W2,h)+b2\n",
    "print(f\"a2 = {a2}\")\n",
    "\n",
    "y = logistic(a2)\n",
    "print(f\"y = {y}\")\n",
    "\n",
    "J = loss(y, t)\n",
    "print(f\"Loss = {J}\")"
   ]
  },
  {
   "cell_type": "markdown",
   "id": "d9fb4f93-c189-42ee-b15c-2f2a3d996026",
   "metadata": {},
   "source": [
    "## Backward pass"
   ]
  },
  {
   "cell_type": "code",
   "execution_count": 3,
   "id": "3c798449-207d-40e3-aca3-d6e5cb3d1b6a",
   "metadata": {},
   "outputs": [
    {
     "name": "stdout",
     "output_type": "stream",
     "text": [
      "[[ 0.084009    0.08596416]\n",
      " [-0.02250957 -0.02303344]]\n",
      "---\n",
      "[[0.00439386 0.00087877]\n",
      " [0.00552154 0.00110431]]\n"
     ]
    }
   ],
   "source": [
    "g = y-t # dL/dy\n",
    "\n",
    "# k=2\n",
    "g = np.multiply(g,logistic(a2)*(1-logistic(a2))) # dL/da2\n",
    "\n",
    "db2 = g\n",
    "\n",
    "dW2 = np.matmul(g.reshape((-1,1)),h.reshape((1,-1)))\n",
    "print(dW2)\n",
    "\n",
    "print(\"---\")\n",
    "g = np.dot(W2,g) # dL/dh\n",
    "\n",
    "# k=1\n",
    "g = np.multiply(g, logistic(h)*(1-logistic(h))) # dL/da1\n",
    "\n",
    "db1 = g\n",
    "dW1 = np.matmul(g.reshape((-1,1)),x.reshape((1,-1)))\n",
    "print(dW1)"
   ]
  },
  {
   "cell_type": "markdown",
   "id": "f6fc15d2-38bb-4e08-a08b-dd4bf86ffff0",
   "metadata": {},
   "source": [
    "## Weight update (SGD)"
   ]
  },
  {
   "cell_type": "code",
   "execution_count": 4,
   "id": "68b57381-cec1-4044-beff-2da8003d9cbf",
   "metadata": {},
   "outputs": [
    {
     "name": "stdout",
     "output_type": "stream",
     "text": [
      "Loss = 0.29645597190908535\n"
     ]
    }
   ],
   "source": [
    "ALPHA=0.1\n",
    "nW2 = W2-ALPHA*dW2\n",
    "nW1 = W1-ALPHA*dW1\n",
    "nb2 = b2-ALPHA*db2\n",
    "nb1 = b1-ALPHA*db1\n",
    "\n",
    "# New fw pass\n",
    "a1 = np.dot(nW1,x)+nb1\n",
    "h = logistic(a1)\n",
    "a2 = np.dot(nW2,h)+nb2\n",
    "y = logistic(a2)\n",
    "J = loss(y, t)\n",
    "print(f\"Loss = {J}\")"
   ]
  }
 ],
 "metadata": {
  "kernelspec": {
   "display_name": "Python 3 (ipykernel)",
   "language": "python",
   "name": "python3"
  },
  "language_info": {
   "codemirror_mode": {
    "name": "ipython",
    "version": 3
   },
   "file_extension": ".py",
   "mimetype": "text/x-python",
   "name": "python",
   "nbconvert_exporter": "python",
   "pygments_lexer": "ipython3",
   "version": "3.10.12"
  }
 },
 "nbformat": 4,
 "nbformat_minor": 5
}
