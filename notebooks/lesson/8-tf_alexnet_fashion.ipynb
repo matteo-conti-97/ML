{
 "cells": [
  {
   "cell_type": "code",
   "execution_count": 1,
   "metadata": {
    "id": "cVxGSwu0-2b0"
   },
   "outputs": [],
   "source": [
    "import tensorflow as tf\n",
    "from tensorflow import keras\n",
    "import numpy as np\n",
    "import os\n",
    "\n",
    "# to make this notebook's output stable across runs\n",
    "np.random.seed(42)\n",
    "tf.random.set_seed(42)\n",
    "\n",
    "# To plot pretty figures\n",
    "%matplotlib inline\n",
    "import matplotlib as mpl\n",
    "import matplotlib.pyplot as plt\n",
    "mpl.rc('axes', labelsize=14)\n",
    "mpl.rc('xtick', labelsize=12)\n",
    "mpl.rc('ytick', labelsize=12)"
   ]
  },
  {
   "cell_type": "markdown",
   "metadata": {
    "id": "8evNMcPP-2b1"
   },
   "source": [
    "Let's start by loading the fashion MNIST dataset."
   ]
  },
  {
   "cell_type": "code",
   "execution_count": 2,
   "metadata": {
    "colab": {
     "base_uri": "https://localhost:8080/"
    },
    "id": "fwQpYT77-2b2",
    "outputId": "3936caf3-bfeb-4728-e470-b22ca6d7d80d"
   },
   "outputs": [
    {
     "name": "stdout",
     "output_type": "stream",
     "text": [
      "Downloading data from https://storage.googleapis.com/tensorflow/tf-keras-datasets/train-labels-idx1-ubyte.gz\n",
      "29515/29515 [==============================] - 0s 0us/step\n",
      "Downloading data from https://storage.googleapis.com/tensorflow/tf-keras-datasets/train-images-idx3-ubyte.gz\n",
      "26421880/26421880 [==============================] - 1s 0us/step\n",
      "Downloading data from https://storage.googleapis.com/tensorflow/tf-keras-datasets/t10k-labels-idx1-ubyte.gz\n",
      "5148/5148 [==============================] - 0s 0us/step\n",
      "Downloading data from https://storage.googleapis.com/tensorflow/tf-keras-datasets/t10k-images-idx3-ubyte.gz\n",
      "4422102/4422102 [==============================] - 1s 0us/step\n"
     ]
    }
   ],
   "source": [
    "fashion_mnist = keras.datasets.fashion_mnist\n",
    "(X_train_full, y_train_full), (X_test, y_test) = fashion_mnist.load_data()\n",
    "X_train_full = X_train_full.reshape(-1,28,28,1)"
   ]
  },
  {
   "cell_type": "markdown",
   "metadata": {
    "id": "X6FEZSvk-2b2"
   },
   "source": [
    "The training set contains 60,000 grayscale images, each 28x28 pixels:"
   ]
  },
  {
   "cell_type": "code",
   "execution_count": 3,
   "metadata": {
    "colab": {
     "base_uri": "https://localhost:8080/"
    },
    "id": "VZvONLbr-2b2",
    "outputId": "ac83715e-541a-4a25-9563-5f57f7b38872"
   },
   "outputs": [
    {
     "data": {
      "text/plain": [
       "(60000, 28, 28, 1)"
      ]
     },
     "execution_count": 3,
     "metadata": {},
     "output_type": "execute_result"
    }
   ],
   "source": [
    "X_train_full.shape"
   ]
  },
  {
   "cell_type": "markdown",
   "metadata": {
    "id": "o1HqSXXP-2b3"
   },
   "source": [
    "Let's split the full training set into a validation set and a (smaller) training set. We also scale the pixel intensities down to the 0-1 range and convert them to floats, by dividing by 255."
   ]
  },
  {
   "cell_type": "code",
   "execution_count": 4,
   "metadata": {
    "id": "9JD7ubMu-2b3"
   },
   "outputs": [],
   "source": [
    "X_valid, X_train = X_train_full[:5000] / 255., X_train_full[5000:] / 255.\n",
    "y_valid, y_train = y_train_full[:5000], y_train_full[5000:]"
   ]
  },
  {
   "cell_type": "markdown",
   "metadata": {
    "id": "eQEWHBa9-2b3"
   },
   "source": [
    "The labels are the class IDs (represented as uint8), from 0 to 9:"
   ]
  },
  {
   "cell_type": "code",
   "execution_count": 5,
   "metadata": {
    "colab": {
     "base_uri": "https://localhost:8080/"
    },
    "id": "UuKRWn-b-2b5",
    "outputId": "694f1a82-e624-4f39-c9eb-2ca01fc67c3c"
   },
   "outputs": [
    {
     "data": {
      "text/plain": [
       "array([4, 0, 7, ..., 3, 0, 5], dtype=uint8)"
      ]
     },
     "execution_count": 5,
     "metadata": {},
     "output_type": "execute_result"
    }
   ],
   "source": [
    "y_train"
   ]
  },
  {
   "cell_type": "markdown",
   "metadata": {
    "id": "v1y7p7an-2b5"
   },
   "source": [
    "Here are the corresponding class names:"
   ]
  },
  {
   "cell_type": "code",
   "execution_count": 6,
   "metadata": {
    "id": "a5bkdKIT-2b6"
   },
   "outputs": [],
   "source": [
    "class_names = [\"T-shirt/top\", \"Trouser\", \"Pullover\", \"Dress\", \"Coat\",\n",
    "               \"Sandal\", \"Shirt\", \"Sneaker\", \"Bag\", \"Ankle boot\"]"
   ]
  },
  {
   "cell_type": "markdown",
   "metadata": {
    "id": "ZnxKYHQV-2b6"
   },
   "source": [
    "## AlexNet"
   ]
  },
  {
   "cell_type": "code",
   "execution_count": 34,
   "metadata": {
    "id": "KQOY1_I5-2b6"
   },
   "outputs": [],
   "source": [
    "alex = tf.keras.models.Sequential([\n",
    "            tf.keras.layers.Resizing(227,227), # just an example, do not upscale input in practice!\n",
    "            tf.keras.layers.Conv2D(filters=96, kernel_size=11, strides=4,\n",
    "                                   activation='relu'),\n",
    "            keras.layers.BatchNormalization(),\n",
    "            tf.keras.layers.MaxPool2D(pool_size=3, strides=2),\n",
    "            tf.keras.layers.Conv2D(filters=256, kernel_size=5, padding='same',\n",
    "                                   activation='relu'),\n",
    "            keras.layers.BatchNormalization(),\n",
    "            tf.keras.layers.MaxPool2D(pool_size=3, strides=2),\n",
    "            tf.keras.layers.Conv2D(filters=384, kernel_size=3, padding='same',\n",
    "                                   activation='relu'),\n",
    "            keras.layers.BatchNormalization(),\n",
    "            tf.keras.layers.Conv2D(filters=384, kernel_size=3, padding='same',\n",
    "                                   activation='relu'),\n",
    "            keras.layers.BatchNormalization(),\n",
    "            tf.keras.layers.Conv2D(filters=256, kernel_size=3, padding='same',\n",
    "                                   activation='relu'),\n",
    "            keras.layers.BatchNormalization(),\n",
    "            tf.keras.layers.MaxPool2D(pool_size=3, strides=2),\n",
    "            tf.keras.layers.Flatten(),\n",
    "            tf.keras.layers.Dense(4096, activation='relu'),\n",
    "            tf.keras.layers.Dropout(0.5),\n",
    "            tf.keras.layers.Dense(4096, activation='relu'),\n",
    "            tf.keras.layers.Dropout(0.5),\n",
    "            tf.keras.layers.Dense(10, activation=\"softmax\")])\n",
    "\n",
    "\n",
    "alex.compile(loss=\"sparse_categorical_crossentropy\",\n",
    "              optimizer=\"adam\",\n",
    "              metrics=[\"accuracy\"])"
   ]
  },
  {
   "cell_type": "code",
   "execution_count": 36,
   "metadata": {
    "colab": {
     "base_uri": "https://localhost:8080/"
    },
    "id": "PnfNynpC-2b6",
    "outputId": "60f8333e-69b1-4272-84e5-b5c8ff00d5c8"
   },
   "outputs": [
    {
     "name": "stdout",
     "output_type": "stream",
     "text": [
      "Epoch 1/10\n",
      "1719/1719 [==============================] - 77s 42ms/step - loss: 1.4182 - accuracy: 0.6296 - val_loss: 0.8219 - val_accuracy: 0.6874\n",
      "Epoch 2/10\n",
      "1719/1719 [==============================] - 71s 41ms/step - loss: 0.9055 - accuracy: 0.6665 - val_loss: 0.6575 - val_accuracy: 0.7454\n",
      "Epoch 3/10\n",
      "1719/1719 [==============================] - 72s 42ms/step - loss: 0.7503 - accuracy: 0.7090 - val_loss: 0.5340 - val_accuracy: 0.7770\n",
      "Epoch 4/10\n",
      "1719/1719 [==============================] - 71s 41ms/step - loss: 0.6474 - accuracy: 0.7340 - val_loss: 0.5708 - val_accuracy: 0.7410\n",
      "Epoch 5/10\n",
      "1719/1719 [==============================] - 71s 41ms/step - loss: 0.5644 - accuracy: 0.7641 - val_loss: 0.5059 - val_accuracy: 0.7730\n",
      "Epoch 6/10\n",
      "1719/1719 [==============================] - 72s 42ms/step - loss: 0.4856 - accuracy: 0.8112 - val_loss: 0.3670 - val_accuracy: 0.8650\n",
      "Epoch 7/10\n",
      "1719/1719 [==============================] - 72s 42ms/step - loss: 0.3528 - accuracy: 0.8749 - val_loss: 0.3212 - val_accuracy: 0.8752\n",
      "Epoch 8/10\n",
      "1719/1719 [==============================] - 72s 42ms/step - loss: 0.3042 - accuracy: 0.8934 - val_loss: 0.2973 - val_accuracy: 0.8996\n",
      "Epoch 9/10\n",
      "1719/1719 [==============================] - 71s 42ms/step - loss: 0.2795 - accuracy: 0.9018 - val_loss: 0.2569 - val_accuracy: 0.9070\n",
      "Epoch 10/10\n",
      "1719/1719 [==============================] - 70s 41ms/step - loss: 0.2578 - accuracy: 0.9106 - val_loss: 0.2625 - val_accuracy: 0.9076\n"
     ]
    }
   ],
   "source": [
    "historyA = alex.fit(X_train, y_train, epochs=20, validation_data=(X_valid, y_valid))"
   ]
  },
  {
   "cell_type": "code",
   "execution_count": null,
   "metadata": {},
   "outputs": [],
   "source": [
    "import pandas as pd\n",
    "\n",
    "pd.DataFrame(historyA.history).plot(figsize=(8, 5))\n",
    "plt.grid(True)\n",
    "plt.gca().set_ylim(0, 1)\n",
    "plt.show()"
   ]
  }
 ],
 "metadata": {
  "accelerator": "GPU",
  "colab": {
   "gpuType": "T4",
   "provenance": []
  },
  "kernelspec": {
   "display_name": "Python 3 (ipykernel)",
   "language": "python",
   "name": "python3"
  },
  "language_info": {
   "codemirror_mode": {
    "name": "ipython",
    "version": 3
   },
   "file_extension": ".py",
   "mimetype": "text/x-python",
   "name": "python",
   "nbconvert_exporter": "python",
   "pygments_lexer": "ipython3",
   "version": "3.10.12"
  },
  "nav_menu": {
   "height": "264px",
   "width": "369px"
  },
  "toc": {
   "navigate_menu": true,
   "number_sections": false,
   "sideBar": true,
   "threshold": 6,
   "toc_cell": false,
   "toc_section_display": "block",
   "toc_window_display": false
  }
 },
 "nbformat": 4,
 "nbformat_minor": 4
}
