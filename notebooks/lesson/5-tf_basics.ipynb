{
 "cells": [
  {
   "cell_type": "markdown",
   "metadata": {
    "id": "5rmpybwysXGV"
   },
   "source": [
    "##### Adapted from the official TensorFlow documentation. Copyright 2020 The TensorFlow Authors."
   ]
  },
  {
   "cell_type": "code",
   "execution_count": 37,
   "metadata": {},
   "outputs": [],
   "source": [
    "import warnings\n",
    "warnings.filterwarnings('ignore')\n",
    "\n",
    "import tensorflow as tf"
   ]
  },
  {
   "cell_type": "markdown",
   "metadata": {
    "id": "hrXv0rU9sIma"
   },
   "source": [
    "# TensorFlow basics"
   ]
  },
  {
   "cell_type": "markdown",
   "metadata": {
    "id": "gvLegMMvBZYg"
   },
   "source": [
    "## Tensors\n",
    "\n",
    "TensorFlow operates on multidimensional arrays or _tensors_ represented as `tf.Tensor` objects. Here is a two-dimensional tensor:"
   ]
  },
  {
   "cell_type": "code",
   "execution_count": 38,
   "metadata": {
    "id": "6ZqX5RnbBS1f"
   },
   "outputs": [
    {
     "name": "stdout",
     "output_type": "stream",
     "text": [
      "tf.Tensor(\n",
      "[[1. 2. 3.]\n",
      " [4. 5. 6.]], shape=(2, 3), dtype=float32)\n",
      "(2, 3)\n",
      "<dtype: 'float32'>\n"
     ]
    }
   ],
   "source": [
    "x = tf.constant([[1., 2., 3.],\n",
    "                 [4., 5., 6.]])\n",
    "\n",
    "print(x)\n",
    "print(x.shape)\n",
    "print(x.dtype)"
   ]
  },
  {
   "cell_type": "markdown",
   "metadata": {
    "id": "k-AOMqevQGN4"
   },
   "source": [
    "The most important attributes of a `tf.Tensor` are its `shape` and `dtype`:\n",
    "\n",
    "* `Tensor.shape`: tells you the size of the tensor along each of its axes.\n",
    "* `Tensor.dtype`: tells you the type of all the elements in the tensor."
   ]
  },
  {
   "cell_type": "markdown",
   "metadata": {
    "id": "bUkKeNWZCIJO"
   },
   "source": [
    "TensorFlow implements standard mathematical operations on tensors, as well as many operations specialized for machine learning. Many operations have an identical syntax as found in NumPy.\n",
    "\n",
    "For example:"
   ]
  },
  {
   "cell_type": "code",
   "execution_count": 39,
   "metadata": {
    "id": "BM7xXNDsBfN5"
   },
   "outputs": [
    {
     "data": {
      "text/plain": [
       "<tf.Tensor: shape=(2, 3), dtype=float32, numpy=\n",
       "array([[ 2.,  4.,  6.],\n",
       "       [ 8., 10., 12.]], dtype=float32)>"
      ]
     },
     "execution_count": 39,
     "metadata": {},
     "output_type": "execute_result"
    }
   ],
   "source": [
    "x + x"
   ]
  },
  {
   "cell_type": "code",
   "execution_count": 40,
   "metadata": {
    "id": "ZLGqscTxB61v"
   },
   "outputs": [
    {
     "data": {
      "text/plain": [
       "<tf.Tensor: shape=(2, 3), dtype=float32, numpy=\n",
       "array([[ 5., 10., 15.],\n",
       "       [20., 25., 30.]], dtype=float32)>"
      ]
     },
     "execution_count": 40,
     "metadata": {},
     "output_type": "execute_result"
    }
   ],
   "source": [
    "5 * x"
   ]
  },
  {
   "cell_type": "code",
   "execution_count": 41,
   "metadata": {
    "id": "2ImJHd8VfnWq"
   },
   "outputs": [
    {
     "data": {
      "text/plain": [
       "<tf.Tensor: shape=(2, 2), dtype=float32, numpy=\n",
       "array([[14., 32.],\n",
       "       [32., 77.]], dtype=float32)>"
      ]
     },
     "execution_count": 41,
     "metadata": {},
     "output_type": "execute_result"
    }
   ],
   "source": [
    "x @ tf.transpose(x)"
   ]
  },
  {
   "cell_type": "code",
   "execution_count": 42,
   "metadata": {
    "id": "U9JZD6TYCZWu"
   },
   "outputs": [
    {
     "data": {
      "text/plain": [
       "<tf.Tensor: shape=(6, 3), dtype=float32, numpy=\n",
       "array([[1., 2., 3.],\n",
       "       [4., 5., 6.],\n",
       "       [1., 2., 3.],\n",
       "       [4., 5., 6.],\n",
       "       [1., 2., 3.],\n",
       "       [4., 5., 6.]], dtype=float32)>"
      ]
     },
     "execution_count": 42,
     "metadata": {},
     "output_type": "execute_result"
    }
   ],
   "source": [
    "tf.concat([x, x, x], axis=0)"
   ]
  },
  {
   "cell_type": "code",
   "execution_count": 43,
   "metadata": {
    "id": "seGBLeD9P_PI"
   },
   "outputs": [
    {
     "data": {
      "text/plain": [
       "<tf.Tensor: shape=(2, 3), dtype=float32, numpy=\n",
       "array([[0.09003057, 0.24472848, 0.66524094],\n",
       "       [0.09003057, 0.24472848, 0.66524094]], dtype=float32)>"
      ]
     },
     "execution_count": 43,
     "metadata": {},
     "output_type": "execute_result"
    }
   ],
   "source": [
    "tf.nn.softmax(x, axis=-1)"
   ]
  },
  {
   "cell_type": "code",
   "execution_count": 44,
   "metadata": {
    "id": "YZNZRv1ECjf8"
   },
   "outputs": [
    {
     "data": {
      "text/plain": [
       "<tf.Tensor: shape=(), dtype=float32, numpy=21.0>"
      ]
     },
     "execution_count": 44,
     "metadata": {},
     "output_type": "execute_result"
    }
   ],
   "source": [
    "tf.reduce_sum(x)"
   ]
  },
  {
   "cell_type": "markdown",
   "metadata": {
    "id": "TNHnIjOVLJfA"
   },
   "source": [
    "Note: Typically, anywhere a TensorFlow function expects a `Tensor` as input, the function will also accept anything that can be converted to a `Tensor` using `tf.convert_to_tensor`. See below for an example."
   ]
  },
  {
   "cell_type": "code",
   "execution_count": 45,
   "metadata": {
    "id": "i_XKgjDsL4GE"
   },
   "outputs": [
    {
     "data": {
      "text/plain": [
       "<tf.Tensor: shape=(3,), dtype=int32, numpy=array([1, 2, 3], dtype=int32)>"
      ]
     },
     "execution_count": 45,
     "metadata": {},
     "output_type": "execute_result"
    }
   ],
   "source": [
    "tf.convert_to_tensor([1,2,3])"
   ]
  },
  {
   "cell_type": "code",
   "execution_count": 46,
   "metadata": {
    "id": "wTBt-JUqLJDJ"
   },
   "outputs": [
    {
     "data": {
      "text/plain": [
       "<tf.Tensor: shape=(), dtype=int32, numpy=6>"
      ]
     },
     "execution_count": 46,
     "metadata": {},
     "output_type": "execute_result"
    }
   ],
   "source": [
    "tf.reduce_sum([1,2,3])"
   ]
  },
  {
   "cell_type": "markdown",
   "metadata": {
    "id": "8-mi5031DVxz"
   },
   "source": [
    "Running large calculations on CPU can be slow. When properly configured, TensorFlow can use accelerator hardware like GPUs to execute operations very quickly."
   ]
  },
  {
   "cell_type": "code",
   "execution_count": 47,
   "metadata": {
    "id": "m97Gv5H6Dz0G"
   },
   "outputs": [
    {
     "name": "stdout",
     "output_type": "stream",
     "text": [
      "TensorFlow **IS NOT** using the GPU\n"
     ]
    }
   ],
   "source": [
    "if tf.config.list_physical_devices('GPU'):\n",
    "  print(\"TensorFlow **IS** using the GPU\")\n",
    "else:\n",
    "  print(\"TensorFlow **IS NOT** using the GPU\")"
   ]
  },
  {
   "cell_type": "markdown",
   "metadata": {},
   "source": [
    "### Conversion to NumPy"
   ]
  },
  {
   "cell_type": "markdown",
   "metadata": {},
   "source": [
    "You can convert a tensor to a NumPy array either using `np.array` or the `tensor.numpy` method:"
   ]
  },
  {
   "cell_type": "code",
   "execution_count": 48,
   "metadata": {},
   "outputs": [
    {
     "data": {
      "text/plain": [
       "array([[1., 2., 3.],\n",
       "       [4., 5., 6.]], dtype=float32)"
      ]
     },
     "execution_count": 48,
     "metadata": {},
     "output_type": "execute_result"
    }
   ],
   "source": [
    "import numpy as np\n",
    "\n",
    "np.array(x)\n",
    "# or\n",
    "x.numpy()"
   ]
  },
  {
   "cell_type": "markdown",
   "metadata": {
    "id": "oVbomvMyEIVF"
   },
   "source": [
    "## Variables\n",
    "\n",
    "Normal `tf.Tensor` objects are immutable. To store model weights (or other mutable state) in TensorFlow use a `tf.Variable`."
   ]
  },
  {
   "cell_type": "code",
   "execution_count": 49,
   "metadata": {
    "id": "SO8_bP4UEzxS"
   },
   "outputs": [],
   "source": [
    "var = tf.Variable([0.0, 0.0, 0.0])"
   ]
  },
  {
   "cell_type": "code",
   "execution_count": 50,
   "metadata": {
    "id": "aDLYFvu5FAFa"
   },
   "outputs": [
    {
     "data": {
      "text/plain": [
       "<tf.Variable 'UnreadVariable' shape=(3,) dtype=float32, numpy=array([1., 2., 3.], dtype=float32)>"
      ]
     },
     "execution_count": 50,
     "metadata": {},
     "output_type": "execute_result"
    }
   ],
   "source": [
    "var.assign([1, 2, 3])"
   ]
  },
  {
   "cell_type": "code",
   "execution_count": 51,
   "metadata": {
    "id": "9EpiOmxXFDSS"
   },
   "outputs": [
    {
     "data": {
      "text/plain": [
       "<tf.Variable 'UnreadVariable' shape=(3,) dtype=float32, numpy=array([2., 3., 4.], dtype=float32)>"
      ]
     },
     "execution_count": 51,
     "metadata": {},
     "output_type": "execute_result"
    }
   ],
   "source": [
    "var.assign_add([1, 1, 1])"
   ]
  },
  {
   "cell_type": "markdown",
   "metadata": {},
   "source": [
    "A variable looks and acts like a tensor, and, in fact, is a data structure backed by a `tf.Tensor`.\n",
    "Most tensor operations work on variables."
   ]
  },
  {
   "cell_type": "markdown",
   "metadata": {
    "id": "rG1Dhv2QFkV3"
   },
   "source": [
    "## Automatic differentiation\n",
    "\n",
    "TensorFlow implements automatic differentiation (autodiff), which uses calculus to compute gradients. Typically you'll use this to calculate the gradient of a model's _error_ or _loss_ with respect to its weights.\n",
    "\n",
    "TensorFlow provides the `tf.GradientTape` API for automatic differentiation; that is, computing the gradient of a computation with respect to some inputs, usually `tf.Variables`. TensorFlow \"records\" relevant operations executed inside the context of a `tf.GradientTape` onto a \"tape\". TensorFlow then uses that tape to compute the gradients of a \"recorded\" computation."
   ]
  },
  {
   "cell_type": "code",
   "execution_count": 52,
   "metadata": {
    "id": "cYKOi-z4GY9Y"
   },
   "outputs": [],
   "source": [
    "x = tf.Variable(1.0)\n",
    "\n",
    "def f(x):\n",
    "  y = x**2 + 2*x - 5\n",
    "  return y"
   ]
  },
  {
   "cell_type": "code",
   "execution_count": 53,
   "metadata": {
    "id": "IQz99cxMGoF_"
   },
   "outputs": [
    {
     "data": {
      "text/plain": [
       "<tf.Tensor: shape=(), dtype=float32, numpy=-2.0>"
      ]
     },
     "execution_count": 53,
     "metadata": {},
     "output_type": "execute_result"
    }
   ],
   "source": [
    "f(x)"
   ]
  },
  {
   "cell_type": "markdown",
   "metadata": {
    "id": "ozLLop0cHeYl"
   },
   "source": [
    "At `x = 1.0`, `y = f(x) = (1**2 + 2*1 - 5) = -2`.\n",
    "\n",
    "The derivative of `y` is `y' = f'(x) = (2*x + 2) = 4`. TensorFlow can calculate this automatically:"
   ]
  },
  {
   "cell_type": "code",
   "execution_count": 54,
   "metadata": {
    "id": "N02NfWpHGvw8"
   },
   "outputs": [
    {
     "data": {
      "text/plain": [
       "<tf.Tensor: shape=(), dtype=float32, numpy=4.0>"
      ]
     },
     "execution_count": 54,
     "metadata": {},
     "output_type": "execute_result"
    }
   ],
   "source": [
    "with tf.GradientTape() as tape:\n",
    "  y = f(x)\n",
    "\n",
    "g_x = tape.gradient(y, x)  # g(x) = dy/dx\n",
    "\n",
    "g_x"
   ]
  },
  {
   "cell_type": "markdown",
   "metadata": {
    "id": "s-DVYJfcIRPd"
   },
   "source": [
    "This simplified example only takes the derivative with respect to a single scalar (`x`), but TensorFlow can compute the gradient with respect to any number of non-scalar tensors simultaneously."
   ]
  },
  {
   "cell_type": "code",
   "execution_count": 55,
   "metadata": {},
   "outputs": [
    {
     "name": "stdout",
     "output_type": "stream",
     "text": [
      "tf.Tensor([-3.7098799 -0.8962367], shape=(2,), dtype=float32)\n"
     ]
    }
   ],
   "source": [
    "w = tf.Variable(tf.random.normal((3, 2)), name='w')\n",
    "b = tf.Variable(tf.zeros(2, dtype=tf.float32), name='b')\n",
    "x = [[1., 2., 3.]]\n",
    "\n",
    "with tf.GradientTape(persistent=True) as tape:\n",
    "  y = x @ w + b\n",
    "  loss = tf.reduce_mean(y**2)\n",
    "\n",
    "[dl_dw, dl_db] = tape.gradient(loss, [w, b])\n",
    "print(dl_db)"
   ]
  },
  {
   "cell_type": "markdown",
   "metadata": {},
   "source": [
    "Alternatively, we can pass a dictionary of variables:"
   ]
  },
  {
   "cell_type": "code",
   "execution_count": 56,
   "metadata": {},
   "outputs": [
    {
     "data": {
      "text/plain": [
       "<tf.Tensor: shape=(2,), dtype=float32, numpy=array([-3.7098799, -0.8962367], dtype=float32)>"
      ]
     },
     "execution_count": 56,
     "metadata": {},
     "output_type": "execute_result"
    }
   ],
   "source": [
    "my_vars = {\n",
    "    'w': w,\n",
    "    'b': b\n",
    "}\n",
    "\n",
    "grad = tape.gradient(loss, my_vars)\n",
    "grad['b']"
   ]
  },
  {
   "cell_type": "markdown",
   "metadata": {},
   "source": [
    "*Note*: By default, the resources held by a GradientTape are released as soon as the GradientTape.gradient method is called. To compute multiple gradients over the same computation, create a gradient tape with persistent=True. This allows multiple calls to the gradient method as resources are released when the tape object is garbage collected."
   ]
  },
  {
   "cell_type": "markdown",
   "metadata": {},
   "source": [
    "Although variables are important for differentiation, some variables will not need to be differentiated. You can turn off gradients for a variable by setting trainable to false at creation. An example of a variable that would not need gradients is a training step counter.\n"
   ]
  },
  {
   "cell_type": "code",
   "execution_count": 57,
   "metadata": {},
   "outputs": [],
   "source": [
    "step_counter = tf.Variable(1, trainable=False)"
   ]
  },
  {
   "cell_type": "markdown",
   "metadata": {},
   "source": [
    "### Gradients of non-scalar targets and Jacobian\n",
    "\n",
    "If the target(s) are not scalar the gradient of the sum is calculated. If you need a separate gradient for each item, use Jacobians."
   ]
  },
  {
   "cell_type": "code",
   "execution_count": 58,
   "metadata": {},
   "outputs": [
    {
     "name": "stdout",
     "output_type": "stream",
     "text": [
      "[  810. -1620.]\n",
      "[[ 432. -864.]\n",
      " [ 147. -294.]\n",
      " [  12.  -24.]\n",
      " [  27.  -54.]\n",
      " [ 192. -384.]]\n"
     ]
    }
   ],
   "source": [
    "x = tf.linspace(-10.0, 10.0, 5)\n",
    "w = tf.Variable([0.0,1.0])\n",
    "with tf.GradientTape(persistent=True) as tape:\n",
    "  y = (x+w[0]-2*w[1])**3\n",
    "\n",
    "print(tape.gradient(y, w).numpy()) # not what you expect, probably\n",
    "print(tape.jacobian(y, w).numpy())"
   ]
  },
  {
   "cell_type": "markdown",
   "metadata": {
    "id": "VglUM4M3KhNz"
   },
   "source": [
    "## Graphs and tf.function\n",
    "\n",
    "While you can use TensorFlow interactively like any Python library, TensorFlow also provides tools for:\n",
    "\n",
    "* **Performance optimization**: to speed up training and inference.\n",
    "* **Export**: so you can save your model when it's done training.\n",
    "\n",
    "These require that you use `tf.function` to separate your pure-TensorFlow code from Python."
   ]
  },
  {
   "cell_type": "code",
   "execution_count": 59,
   "metadata": {
    "id": "VitACyZWKJD_"
   },
   "outputs": [],
   "source": [
    "@tf.function\n",
    "def my_func(x):\n",
    "  print('Tracing.\\n')\n",
    "  return tf.reduce_sum(x)"
   ]
  },
  {
   "cell_type": "markdown",
   "metadata": {
    "id": "fBYDh-huNUBZ"
   },
   "source": [
    "The first time you run the `tf.function`, although it executes in Python, it captures a complete, optimized graph representing the TensorFlow computations done within the function."
   ]
  },
  {
   "cell_type": "code",
   "execution_count": 60,
   "metadata": {
    "id": "vkOFSEkoM1bd"
   },
   "outputs": [
    {
     "name": "stdout",
     "output_type": "stream",
     "text": [
      "Tracing.\n",
      "\n"
     ]
    },
    {
     "data": {
      "text/plain": [
       "<tf.Tensor: shape=(), dtype=int32, numpy=6>"
      ]
     },
     "execution_count": 60,
     "metadata": {},
     "output_type": "execute_result"
    }
   ],
   "source": [
    "x = tf.constant([1, 2, 3])\n",
    "my_func(x)"
   ]
  },
  {
   "cell_type": "markdown",
   "metadata": {
    "id": "a3aWzt-rNsBa"
   },
   "source": [
    "On subsequent calls TensorFlow only executes the optimized graph, skipping any non-TensorFlow steps. Below, note that `my_func` doesn't print _tracing_ since `print` is a Python function, not a TensorFlow function."
   ]
  },
  {
   "cell_type": "code",
   "execution_count": 61,
   "metadata": {
    "id": "23dMHWwwNIoa"
   },
   "outputs": [
    {
     "data": {
      "text/plain": [
       "<tf.Tensor: shape=(), dtype=int32, numpy=27>"
      ]
     },
     "execution_count": 61,
     "metadata": {},
     "output_type": "execute_result"
    }
   ],
   "source": [
    "x = tf.constant([10, 9, 8])\n",
    "my_func(x)"
   ]
  },
  {
   "cell_type": "markdown",
   "metadata": {
    "id": "nSeTti6zki0n"
   },
   "source": [
    "A graph may not be reusable for inputs with a different _signature_ (`shape` and `dtype`), so a new graph is generated instead:"
   ]
  },
  {
   "cell_type": "code",
   "execution_count": 62,
   "metadata": {
    "id": "OWffqyhqlVPf"
   },
   "outputs": [
    {
     "name": "stdout",
     "output_type": "stream",
     "text": [
      "Tracing.\n",
      "\n"
     ]
    },
    {
     "data": {
      "text/plain": [
       "<tf.Tensor: shape=(), dtype=float32, numpy=27.3>"
      ]
     },
     "execution_count": 62,
     "metadata": {},
     "output_type": "execute_result"
    }
   ],
   "source": [
    "x = tf.constant([10.0, 9.1, 8.2], dtype=tf.float32)\n",
    "my_func(x)"
   ]
  },
  {
   "cell_type": "markdown",
   "metadata": {
    "id": "t_36xPDPPBqp"
   },
   "source": [
    "## Modules, layers, and models"
   ]
  },
  {
   "cell_type": "markdown",
   "metadata": {
    "id": "oDaT7kCpUgnJ"
   },
   "source": [
    "`tf.Module` is a class for managing your `tf.Variable` objects, and the `tf.function` objects that operate on them. The `tf.Module` class is necessary to support two significant features:\n",
    "\n",
    "1. You can save and restore the values of your variables using `tf.train.Checkpoint`. This is useful during training as it is quick to save and restore a model's state.\n",
    "2. You can import and export the `tf.Variable` values _and_ the `tf.function` graphs using `tf.saved_model`. This allows you to run your model independently of the Python program that created it.\n",
    "\n",
    "Here is a complete example exporting a simple `tf.Module` object:"
   ]
  },
  {
   "cell_type": "code",
   "execution_count": 63,
   "metadata": {
    "id": "1MqEcZOqPBDV"
   },
   "outputs": [],
   "source": [
    "class MyModule(tf.Module):\n",
    "  def __init__(self, value):\n",
    "    self.weight = tf.Variable(value)\n",
    "\n",
    "  @tf.function\n",
    "  def multiply(self, x):\n",
    "    return x * self.weight"
   ]
  },
  {
   "cell_type": "code",
   "execution_count": 64,
   "metadata": {
    "id": "la2G82HfVfU0"
   },
   "outputs": [
    {
     "data": {
      "text/plain": [
       "<tf.Tensor: shape=(3,), dtype=int32, numpy=array([3, 6, 9], dtype=int32)>"
      ]
     },
     "execution_count": 64,
     "metadata": {},
     "output_type": "execute_result"
    }
   ],
   "source": [
    "mod = MyModule(3)\n",
    "mod.multiply(tf.constant([1, 2, 3]))"
   ]
  },
  {
   "cell_type": "markdown",
   "metadata": {
    "id": "GaSJX7zQXCm4"
   },
   "source": [
    "Save the `Module`:"
   ]
  },
  {
   "cell_type": "code",
   "execution_count": 65,
   "metadata": {
    "id": "1MlfbEMjVzG4"
   },
   "outputs": [
    {
     "name": "stdout",
     "output_type": "stream",
     "text": [
      "INFO:tensorflow:Assets written to: ./saved/assets\n"
     ]
    }
   ],
   "source": [
    "save_path = './saved'\n",
    "tf.saved_model.save(mod, save_path)"
   ]
  },
  {
   "cell_type": "markdown",
   "metadata": {
    "id": "LgfoftD4XGJW"
   },
   "source": [
    "The resulting SavedModel is independent of the code that created it. You can load a SavedModel from Python, other language bindings, or [TensorFlow Serving](https://www.tensorflow.org/tfx/serving/docker). You can also convert it to run with [TensorFlow Lite](https://www.tensorflow.org/lite/guide) or [TensorFlow JS](https://www.tensorflow.org/js/guide)."
   ]
  },
  {
   "cell_type": "code",
   "execution_count": 66,
   "metadata": {
    "id": "pWuLOIKBWZYG"
   },
   "outputs": [
    {
     "data": {
      "text/plain": [
       "<tf.Tensor: shape=(3,), dtype=int32, numpy=array([3, 6, 9], dtype=int32)>"
      ]
     },
     "execution_count": 66,
     "metadata": {},
     "output_type": "execute_result"
    }
   ],
   "source": [
    "reloaded = tf.saved_model.load(save_path)\n",
    "reloaded.multiply(tf.constant([1, 2, 3]))"
   ]
  },
  {
   "cell_type": "markdown",
   "metadata": {
    "id": "nxU6P1RGwHyC"
   },
   "source": [
    "The `tf.keras.layers.Layer` and `tf.keras.Model` classes build on `tf.Module` providing additional functionality and convenience methods for building, training, and saving models. Some of these are demonstrated in the next section."
   ]
  },
  {
   "cell_type": "markdown",
   "metadata": {
    "id": "Rk1IEG5aav7X"
   },
   "source": [
    "## Training loops\n",
    "\n",
    "Now put this all together to build a basic model and train it from scratch.\n",
    "\n",
    "First, create some example data. This generates a cloud of points that loosely follows a quadratic curve:"
   ]
  },
  {
   "cell_type": "code",
   "execution_count": 67,
   "metadata": {
    "id": "VcuFr7KPRPzn"
   },
   "outputs": [],
   "source": [
    "import matplotlib\n",
    "from matplotlib import pyplot as plt\n",
    "\n",
    "matplotlib.rcParams['figure.figsize'] = [9, 6]"
   ]
  },
  {
   "cell_type": "code",
   "execution_count": 68,
   "metadata": {
    "id": "sXN9E_xf-GiP"
   },
   "outputs": [
    {
     "data": {
      "image/png": "[encoded data removed]",
      "text/plain": [
       "<Figure size 900x600 with 1 Axes>"
      ]
     },
     "metadata": {},
     "output_type": "display_data"
    }
   ],
   "source": [
    "x = tf.linspace(-2, 2, 201)\n",
    "x = tf.cast(x, tf.float32)\n",
    "\n",
    "def f(x):\n",
    "  y = x**2 + 2*x - 5\n",
    "  return y\n",
    "\n",
    "y = f(x) + tf.random.normal(shape=[201])\n",
    "\n",
    "plt.plot(x.numpy(), y.numpy(), '.', label='Data')\n",
    "plt.plot(x, f(x), label='Ground truth')\n",
    "plt.legend();"
   ]
  },
  {
   "cell_type": "markdown",
   "metadata": {
    "id": "De5LldboSWcW"
   },
   "source": [
    "Create a quadratic model with randomly initialized weights and a bias:"
   ]
  },
  {
   "cell_type": "code",
   "execution_count": 69,
   "metadata": {
    "id": "Pypd0GB4SRhf"
   },
   "outputs": [],
   "source": [
    "class Model(tf.Module):\n",
    "\n",
    "  def __init__(self):\n",
    "    # Randomly generate weight and bias terms\n",
    "    rand_init = tf.random.uniform(shape=[3], minval=0., maxval=5., seed=22)\n",
    "    # Initialize model parameters\n",
    "    self.w_q = tf.Variable(rand_init[0])\n",
    "    self.w_l = tf.Variable(rand_init[1])\n",
    "    self.b = tf.Variable(rand_init[2])\n",
    "  \n",
    "  @tf.function\n",
    "  def __call__(self, x):\n",
    "    # Quadratic Model : quadratic_weight * x^2 + linear_weight * x + bias\n",
    "    return self.w_q * (x**2) + self.w_l * x + self.b"
   ]
  },
  {
   "cell_type": "markdown",
   "metadata": {
    "id": "36o7VjaesScg"
   },
   "source": [
    "First, observe your model's performance before training:"
   ]
  },
  {
   "cell_type": "code",
   "execution_count": 70,
   "metadata": {
    "id": "GkwToC5BWV1c"
   },
   "outputs": [],
   "source": [
    "quad_model = Model()"
   ]
  },
  {
   "cell_type": "code",
   "execution_count": 71,
   "metadata": {
    "id": "ReWhH40wTY5F"
   },
   "outputs": [],
   "source": [
    "def plot_preds(x, y, f, model, title):\n",
    "  plt.figure()\n",
    "  plt.plot(x, y, '.', label='Data')\n",
    "  plt.plot(x, f(x), label='Ground truth')\n",
    "  plt.plot(x, model(x), label='Predictions')\n",
    "  plt.title(title)\n",
    "  plt.legend()"
   ]
  },
  {
   "cell_type": "code",
   "execution_count": 72,
   "metadata": {
    "id": "Y0JtXQat-nlk"
   },
   "outputs": [
    {
     "data": {
      "image/png": "[encoded data removed]",
      "text/plain": [
       "<Figure size 900x600 with 1 Axes>"
      ]
     },
     "metadata": {},
     "output_type": "display_data"
    }
   ],
   "source": [
    "plot_preds(x, y, f, quad_model, 'Before training')"
   ]
  },
  {
   "cell_type": "markdown",
   "metadata": {
    "id": "hLzwD0-ascGf"
   },
   "source": [
    "Now, define a loss for your model:\n",
    "\n",
    "Given that this model is intended to predict continuous values, the mean squared error (MSE) is a good choice for the loss function. Given a vector of predictions, $\\hat{y}$, and a vector of true targets, $y$, the MSE is defined as the mean of the squared differences between the predicted values and the ground truth.\n",
    "\n",
    "$MSE = \\frac{1}{m}\\sum_{i=1}^{m}(\\hat{y}_i -y_i)^2$"
   ]
  },
  {
   "cell_type": "code",
   "execution_count": 73,
   "metadata": {
    "id": "eCtJ1uuCseZd"
   },
   "outputs": [],
   "source": [
    "def mse_loss(y_pred, y):\n",
    "  return tf.reduce_mean(tf.square(y_pred - y))"
   ]
  },
  {
   "cell_type": "markdown",
   "metadata": {
    "id": "7EWyDu3zot2w"
   },
   "source": [
    "Write a basic training loop for the model. The loop will make use of the MSE loss function and its gradients with respect to the input in order to iteratively update the model's parameters. Using mini-batches for training provides both memory efficiency and faster convergence. The `tf.data.Dataset` API has useful functions for batching and shuffling."
   ]
  },
  {
   "cell_type": "code",
   "execution_count": 74,
   "metadata": {
    "id": "8kX_-zily2Ia"
   },
   "outputs": [],
   "source": [
    "batch_size = 32\n",
    "dataset = tf.data.Dataset.from_tensor_slices((x, y))\n",
    "dataset = dataset.shuffle(buffer_size=x.shape[0]).batch(batch_size)"
   ]
  },
  {
   "cell_type": "code",
   "execution_count": 75,
   "metadata": {
    "id": "nOaES5gyTDtG"
   },
   "outputs": [
    {
     "name": "stdout",
     "output_type": "stream",
     "text": [
      "WARNING:tensorflow:5 out of the last 10 calls to <function Model.__call__ at 0x7f7ef2fbec20> triggered tf.function retracing. Tracing is expensive and the excessive number of tracings could be due to (1) creating @tf.function repeatedly in a loop, (2) passing tensors with different shapes, (3) passing Python objects instead of tensors. For (1), please define your @tf.function outside of the loop. For (2), @tf.function has reduce_retracing=True option that can avoid unnecessary retracing. For (3), please refer to https://www.tensorflow.org/guide/function#controlling_retracing and https://www.tensorflow.org/api_docs/python/tf/function for  more details.\n",
      "Mean squared error for step 0: 68.926\n",
      "Mean squared error for step 10: 4.200\n",
      "Mean squared error for step 20: 2.167\n",
      "Mean squared error for step 30: 1.426\n",
      "Mean squared error for step 40: 1.182\n",
      "Mean squared error for step 50: 1.094\n",
      "Mean squared error for step 60: 1.067\n",
      "Mean squared error for step 70: 1.058\n",
      "Mean squared error for step 80: 1.053\n",
      "Mean squared error for step 90: 1.052\n",
      "\n",
      "\n"
     ]
    },
    {
     "data": {
      "image/png": "[encoded data removed]",
      "text/plain": [
       "<Figure size 900x600 with 1 Axes>"
      ]
     },
     "metadata": {},
     "output_type": "display_data"
    }
   ],
   "source": [
    "# Set training parameters\n",
    "epochs = 100\n",
    "learning_rate = 0.01\n",
    "losses = []\n",
    "\n",
    "# Format training loop\n",
    "for epoch in range(epochs):\n",
    "  for x_batch, y_batch in dataset:\n",
    "    with tf.GradientTape() as tape:\n",
    "      pred = quad_model(x_batch)\n",
    "      batch_loss = mse_loss(pred, y_batch)\n",
    "    # Update parameters with respect to the gradient calculations\n",
    "    grads = tape.gradient(batch_loss, quad_model.variables)\n",
    "    for g,v in zip(grads, quad_model.variables):\n",
    "        v.assign_sub(learning_rate*g)\n",
    "  # Keep track of model loss per epoch\n",
    "  loss = mse_loss(quad_model(x), y)\n",
    "  losses.append(loss)\n",
    "  if epoch % 10 == 0:\n",
    "    print(f'Mean squared error for step {epoch}: {loss.numpy():0.3f}')\n",
    "\n",
    "# Plot model results\n",
    "print(\"\\n\")\n",
    "plt.plot(range(epochs), losses)\n",
    "plt.xlabel(\"Epoch\")\n",
    "plt.ylabel(\"Mean Squared Error (MSE)\")\n",
    "plt.title('MSE loss vs training iterations');"
   ]
  },
  {
   "cell_type": "markdown",
   "metadata": {
    "id": "dW5B2TTRsvxE"
   },
   "source": [
    "Now, observe your model's performance after training:"
   ]
  },
  {
   "cell_type": "code",
   "execution_count": 76,
   "metadata": {
    "id": "Qcvzyg3eYLh8"
   },
   "outputs": [
    {
     "data": {
      "image/png": "[encoded data removed]",
      "text/plain": [
       "<Figure size 900x600 with 1 Axes>"
      ]
     },
     "metadata": {},
     "output_type": "display_data"
    }
   ],
   "source": [
    "plot_preds(x, y, f, quad_model, 'After training')"
   ]
  },
  {
   "cell_type": "markdown",
   "metadata": {
    "id": "hbtmFJIXb6qm"
   },
   "source": [
    "That's working, but remember that implementations of common training utilities are available in the `tf.keras` module. So, consider using those before writing your own. "
   ]
  }
 ],
 "metadata": {
  "colab": {
   "collapsed_sections": [],
   "name": "basics.ipynb",
   "toc_visible": true
  },
  "kernelspec": {
   "display_name": "Python 3 (ipykernel)",
   "language": "python",
   "name": "python3"
  },
  "language_info": {
   "codemirror_mode": {
    "name": "ipython",
    "version": 3
   },
   "file_extension": ".py",
   "mimetype": "text/x-python",
   "name": "python",
   "nbconvert_exporter": "python",
   "pygments_lexer": "ipython3",
   "version": "3.10.12"
  }
 },
 "nbformat": 4,
 "nbformat_minor": 4
}
