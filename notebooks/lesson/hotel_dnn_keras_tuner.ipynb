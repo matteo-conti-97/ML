{
 "cells": [
  {
   "cell_type": "markdown",
   "metadata": {},
   "source": [
    "# Exercise #\n",
    "\n",
    "In this exercise, you'll build a model to predict hotel cancellations with a binary classifier."
   ]
  },
  {
   "cell_type": "code",
   "execution_count": 2,
   "metadata": {
    "lines_to_next_cell": 0
   },
   "outputs": [],
   "source": [
    "# Setup plotting\n",
    "import matplotlib.pyplot as plt\n",
    "plt.rc('figure', autolayout=True)\n",
    "plt.rc('axes', labelweight='bold', labelsize='large',\n",
    "       titleweight='bold', titlesize=18, titlepad=10)\n",
    "plt.rc('animation', html='html5')\n",
    "\n",
    "import numpy as np\n",
    "\n",
    "import keras_tuner\n",
    "import tensorflow as tf\n",
    "from tensorflow.keras import layers"
   ]
  },
  {
   "cell_type": "markdown",
   "metadata": {},
   "source": [
    "First, load the *Hotel Cancellations* dataset. (**fix the path** if necessary)"
   ]
  },
  {
   "cell_type": "code",
   "execution_count": 3,
   "metadata": {
    "lines_to_next_cell": 2
   },
   "outputs": [],
   "source": [
    "import pandas as pd\n",
    "\n",
    "from sklearn.model_selection import train_test_split\n",
    "from sklearn.preprocessing import StandardScaler, OneHotEncoder\n",
    "from sklearn.impute import SimpleImputer\n",
    "from sklearn.pipeline import make_pipeline\n",
    "from sklearn.compose import make_column_transformer\n",
    "\n",
    "df = pd.read_csv('../data/hotel_train.csv')"
   ]
  },
  {
   "cell_type": "code",
   "execution_count": 4,
   "metadata": {},
   "outputs": [
    {
     "name": "stdout",
     "output_type": "stream",
     "text": [
      "<class 'pandas.core.frame.DataFrame'>\n",
      "RangeIndex: 95512 entries, 0 to 95511\n",
      "Data columns (total 30 columns):\n",
      " #   Column                          Non-Null Count  Dtype  \n",
      "---  ------                          --------------  -----  \n",
      " 0   hotel                           95512 non-null  object \n",
      " 1   is_canceled                     95512 non-null  int64  \n",
      " 2   lead_time                       95512 non-null  int64  \n",
      " 3   arrival_date_year               95512 non-null  int64  \n",
      " 4   arrival_date_month              95512 non-null  object \n",
      " 5   arrival_date_week_number        95512 non-null  int64  \n",
      " 6   arrival_date_day_of_month       95512 non-null  int64  \n",
      " 7   stays_in_weekend_nights         95512 non-null  int64  \n",
      " 8   stays_in_week_nights            95512 non-null  int64  \n",
      " 9   adults                          95512 non-null  int64  \n",
      " 10  children                        95508 non-null  float64\n",
      " 11  babies                          95512 non-null  int64  \n",
      " 12  meal                            95512 non-null  object \n",
      " 13  country                         95122 non-null  object \n",
      " 14  market_segment                  95512 non-null  object \n",
      " 15  distribution_channel            95512 non-null  object \n",
      " 16  is_repeated_guest               95512 non-null  int64  \n",
      " 17  previous_cancellations          95512 non-null  int64  \n",
      " 18  previous_bookings_not_canceled  95512 non-null  int64  \n",
      " 19  reserved_room_type              95512 non-null  object \n",
      " 20  assigned_room_type              95512 non-null  object \n",
      " 21  booking_changes                 95512 non-null  int64  \n",
      " 22  deposit_type                    95512 non-null  object \n",
      " 23  agent                           82410 non-null  float64\n",
      " 24  company                         5407 non-null   float64\n",
      " 25  days_in_waiting_list            95512 non-null  int64  \n",
      " 26  customer_type                   95512 non-null  object \n",
      " 27  adr                             95512 non-null  float64\n",
      " 28  required_car_parking_spaces     95512 non-null  int64  \n",
      " 29  total_of_special_requests       95512 non-null  int64  \n",
      "dtypes: float64(4), int64(16), object(10)\n",
      "memory usage: 21.9+ MB\n"
     ]
    }
   ],
   "source": [
    "df.info()"
   ]
  },
  {
   "cell_type": "code",
   "execution_count": 5,
   "metadata": {},
   "outputs": [],
   "source": [
    "numerical = df.loc[:, (df.dtypes == int) | (df.dtypes == float)].columns.tolist()\n",
    "categorical = df.loc[:, (df.dtypes != int) & (df.dtypes != float)].columns.tolist()"
   ]
  },
  {
   "cell_type": "code",
   "execution_count": 6,
   "metadata": {},
   "outputs": [
    {
     "data": {
      "text/plain": [
       "is_canceled\n",
       "0    60133\n",
       "1    35379\n",
       "Name: count, dtype: int64"
      ]
     },
     "execution_count": 6,
     "metadata": {},
     "output_type": "execute_result"
    }
   ],
   "source": [
    "df.is_canceled.value_counts()"
   ]
  },
  {
   "cell_type": "markdown",
   "metadata": {},
   "source": [
    "We can note that ADR (average daily rate) has negative values"
   ]
  },
  {
   "cell_type": "code",
   "execution_count": 7,
   "metadata": {},
   "outputs": [],
   "source": [
    "df = df.loc[df.adr > 0,:]"
   ]
  },
  {
   "cell_type": "markdown",
   "metadata": {},
   "source": [
    "We also note that reservations exist with 0 adults..."
   ]
  },
  {
   "cell_type": "code",
   "execution_count": 8,
   "metadata": {},
   "outputs": [],
   "source": [
    "df = df.loc[df.adults > 0,:]"
   ]
  },
  {
   "cell_type": "markdown",
   "metadata": {},
   "source": [
    "## Prepare data for ML"
   ]
  },
  {
   "cell_type": "code",
   "execution_count": 9,
   "metadata": {
    "lines_to_next_cell": 2
   },
   "outputs": [
    {
     "data": {
      "text/plain": [
       "[64]"
      ]
     },
     "execution_count": 9,
     "metadata": {},
     "output_type": "execute_result"
    }
   ],
   "source": [
    "X = df.copy()\n",
    "y = X.pop('is_canceled') # this is the target column\n",
    "\n",
    "\n",
    "X['arrival_date_month'] = \\\n",
    "    X['arrival_date_month'].map(\n",
    "        {'January':1, 'February': 2, 'March':3,\n",
    "         'April':4, 'May':5, 'June':6, 'July':7,\n",
    "         'August':8, 'September':9, 'October':10,\n",
    "         'November':11, 'December':12}\n",
    "    )\n",
    "\n",
    "#X['meal'] = X['meal'].replace(['Undefined'], 'SC')\n",
    "X[\"international\"] = X.country==\"PRT\"\n",
    "X.drop(columns=[ \"country\"], inplace=True)\n",
    "\n",
    "X['kids'] = X['babies'] + X['children']\n",
    "X['total_stay'] = X['stays_in_week_nights'] + X['stays_in_weekend_nights']\n",
    "X['prev_canc'] = (X['previous_cancellations']>0).astype(int)\n",
    "X.drop(columns=[\"babies\",\"children\",\"meal\"], inplace=True)\n",
    "\n",
    "\n",
    "numerical_features = X.loc[:, (X.dtypes == int) | (X.dtypes == float)].columns.tolist()\n",
    "categorical_features = X.loc[:, (X.dtypes != int) & (X.dtypes != float)].columns.tolist()\n",
    "\n",
    "transformer_num = make_pipeline(\n",
    "    SimpleImputer(strategy=\"constant\"), # default fill value=0\n",
    "    StandardScaler(),\n",
    ")\n",
    "transformer_cat = make_pipeline(\n",
    "    SimpleImputer(strategy=\"constant\", fill_value=\"NA\"),\n",
    "    OneHotEncoder(handle_unknown='ignore'),\n",
    ")\n",
    "\n",
    "preprocessor = make_column_transformer(\n",
    "    (transformer_num, numerical_features),\n",
    "    (transformer_cat, categorical_features),\n",
    ")\n",
    "\n",
    "# stratify - make sure classes are evenlly represented across splits\n",
    "X_train, X_valid, y_train, y_valid = train_test_split(X, y, stratify=y, train_size=0.8)\n",
    "\n",
    "X_train = preprocessor.fit_transform(X_train)\n",
    "X_valid = preprocessor.transform(X_valid)\n",
    "\n",
    "input_shape = [X_train.shape[1]]\n",
    "input_shape"
   ]
  },
  {
   "cell_type": "code",
   "execution_count": 42,
   "metadata": {},
   "outputs": [
    {
     "data": {
      "text/plain": [
       "<keras.engine.sequential.Sequential at 0x7f34b50f67a0>"
      ]
     },
     "execution_count": 42,
     "metadata": {},
     "output_type": "execute_result"
    }
   ],
   "source": [
    "\n",
    "def build_model(hp):\n",
    "    model = keras.Sequential()\n",
    "\n",
    "    dropoutRate = hp.Float(\"drRate\", min_value=0.1, max_value=0.3, step=0.1)\n",
    "    \n",
    "    model.add(layers.Dense(\n",
    "            units=hp.Int(\"units\", min_value=50, max_value=150, step=15),\n",
    "            activation=hp.Choice(\"activation\", [\"relu\", \"leaky_relu\", \"tanh\"]))\n",
    "    )\n",
    "    if hp.Boolean(\"dropout\"):\n",
    "        model.add(layers.Dropout(rate=dropoutRate))\n",
    "        \n",
    "    model.add(layers.Dense(\n",
    "            units=hp.Int(\"units2\", min_value=20, max_value=60, step=10),\n",
    "            activation=hp.Choice(\"activation2\", [\"relu\",\"leaky_relu\",  \"tanh\"]))\n",
    "    )\n",
    "    if hp.Boolean(\"dropout2\"):\n",
    "        model.add(layers.Dropout(rate=dropoutRate))\n",
    "        \n",
    "    if hp.Boolean(\"extraLayer\"):\n",
    "        model.add(keras.layers.Dense(units=hp.Int(\"units3\", min_value=5, max_value=20, step=5), activation=hp.Choice(\"activation3\", [\"relu\",\"leaky_relu\",  \"tanh\"])))\n",
    "        \n",
    "    model.add(keras.layers.Dense(1, activation=\"sigmoid\"))\n",
    "    \n",
    "\n",
    "        \n",
    "    model.compile(\n",
    "        optimizer=\"adam\",\n",
    "        loss=\"binary_crossentropy\",\n",
    "        metrics=[\"accuracy\"],\n",
    "    )\n",
    "     \n",
    "    return model\n",
    "\n",
    "\n",
    "build_model(keras_tuner.HyperParameters())\n"
   ]
  },
  {
   "cell_type": "code",
   "execution_count": 43,
   "metadata": {},
   "outputs": [
    {
     "name": "stdout",
     "output_type": "stream",
     "text": [
      "Trial 253 Complete [00h 03m 01s]\n",
      "val_accuracy: 0.8699061274528503\n",
      "\n",
      "Best val_accuracy So Far: 0.8760401010513306\n",
      "Total elapsed time: 01h 20m 31s\n",
      "\n",
      "Search: Running Trial #254\n",
      "\n",
      "Value             |Best Value So Far |Hyperparameter\n",
      "0.1               |0.2               |drRate\n",
      "125               |140               |units\n",
      "tanh              |relu              |activation\n",
      "False             |True              |dropout\n",
      "20                |60                |units2\n",
      "tanh              |leaky_relu        |activation2\n",
      "False             |False             |dropout2\n",
      "False             |False             |extraLayer\n",
      "20                |20                |units3\n",
      "leaky_relu        |leaky_relu        |activation3\n",
      "100               |100               |tuner/epochs\n",
      "0                 |34                |tuner/initial_epoch\n",
      "0                 |3                 |tuner/bracket\n",
      "0                 |3                 |tuner/round\n",
      "\n",
      "Epoch 1/100\n",
      "2344/2344 [==============================] - 2s 752us/step - loss: 0.3621 - accuracy: 0.8251 - val_loss: 0.3354 - val_accuracy: 0.8368\n",
      "Epoch 2/100\n",
      "2344/2344 [==============================] - 2s 705us/step - loss: 0.3316 - accuracy: 0.8414 - val_loss: 0.3238 - val_accuracy: 0.8462\n",
      "Epoch 3/100\n",
      "2344/2344 [==============================] - 2s 698us/step - loss: 0.3198 - accuracy: 0.8475 - val_loss: 0.3177 - val_accuracy: 0.8492\n",
      "Epoch 4/100\n",
      "2344/2344 [==============================] - 2s 693us/step - loss: 0.3125 - accuracy: 0.8523 - val_loss: 0.3174 - val_accuracy: 0.8484\n",
      "Epoch 5/100\n",
      "2344/2344 [==============================] - 2s 735us/step - loss: 0.3060 - accuracy: 0.8550 - val_loss: 0.3110 - val_accuracy: 0.8506\n",
      "Epoch 6/100\n",
      "2344/2344 [==============================] - 2s 739us/step - loss: 0.3012 - accuracy: 0.8572 - val_loss: 0.3079 - val_accuracy: 0.8537\n",
      "Epoch 7/100\n",
      "2344/2344 [==============================] - 2s 702us/step - loss: 0.2966 - accuracy: 0.8603 - val_loss: 0.3069 - val_accuracy: 0.8536\n",
      "Epoch 8/100\n",
      "2344/2344 [==============================] - 2s 710us/step - loss: 0.2925 - accuracy: 0.8629 - val_loss: 0.3042 - val_accuracy: 0.8553\n",
      "Epoch 9/100\n",
      "2344/2344 [==============================] - 2s 781us/step - loss: 0.2893 - accuracy: 0.8632 - val_loss: 0.3003 - val_accuracy: 0.8563\n",
      "Epoch 10/100\n",
      "2344/2344 [==============================] - 2s 811us/step - loss: 0.2868 - accuracy: 0.8647 - val_loss: 0.3019 - val_accuracy: 0.8568\n",
      "Epoch 11/100\n",
      "2344/2344 [==============================] - 2s 753us/step - loss: 0.2838 - accuracy: 0.8673 - val_loss: 0.2948 - val_accuracy: 0.8609\n",
      "Epoch 12/100\n",
      "2344/2344 [==============================] - 2s 878us/step - loss: 0.2808 - accuracy: 0.8685 - val_loss: 0.2982 - val_accuracy: 0.8617\n",
      "Epoch 13/100\n",
      "2344/2344 [==============================] - 2s 763us/step - loss: 0.2783 - accuracy: 0.8692 - val_loss: 0.2949 - val_accuracy: 0.8636\n",
      "Epoch 14/100\n",
      "2344/2344 [==============================] - 2s 803us/step - loss: 0.2761 - accuracy: 0.8701 - val_loss: 0.2911 - val_accuracy: 0.8640\n",
      "Epoch 15/100\n",
      "2344/2344 [==============================] - 2s 763us/step - loss: 0.2733 - accuracy: 0.8719 - val_loss: 0.2917 - val_accuracy: 0.8630\n",
      "Epoch 16/100\n",
      "2344/2344 [==============================] - 2s 707us/step - loss: 0.2714 - accuracy: 0.8728 - val_loss: 0.2913 - val_accuracy: 0.8655\n",
      "Epoch 17/100\n",
      "2344/2344 [==============================] - 2s 695us/step - loss: 0.2693 - accuracy: 0.8741 - val_loss: 0.2906 - val_accuracy: 0.8647\n",
      "Epoch 18/100\n",
      "2344/2344 [==============================] - 2s 734us/step - loss: 0.2670 - accuracy: 0.8748 - val_loss: 0.2925 - val_accuracy: 0.8632\n",
      "Epoch 19/100\n",
      "2344/2344 [==============================] - 2s 752us/step - loss: 0.2648 - accuracy: 0.8773 - val_loss: 0.2912 - val_accuracy: 0.8643\n",
      "Epoch 20/100\n",
      "2344/2344 [==============================] - 2s 766us/step - loss: 0.2631 - accuracy: 0.8769 - val_loss: 0.2920 - val_accuracy: 0.8645\n",
      "Epoch 21/100\n",
      "2344/2344 [==============================] - 2s 712us/step - loss: 0.2611 - accuracy: 0.8770 - val_loss: 0.2954 - val_accuracy: 0.8606\n",
      "Epoch 22/100\n",
      "2344/2344 [==============================] - 2s 741us/step - loss: 0.2596 - accuracy: 0.8789 - val_loss: 0.2917 - val_accuracy: 0.8650\n",
      "Epoch 23/100\n",
      "2344/2344 [==============================] - 2s 710us/step - loss: 0.2571 - accuracy: 0.8793 - val_loss: 0.2909 - val_accuracy: 0.8656\n",
      "Epoch 24/100\n",
      "2344/2344 [==============================] - 2s 698us/step - loss: 0.2561 - accuracy: 0.8799 - val_loss: 0.2924 - val_accuracy: 0.8651\n",
      "Epoch 25/100\n",
      "2344/2344 [==============================] - 2s 695us/step - loss: 0.2544 - accuracy: 0.8818 - val_loss: 0.2925 - val_accuracy: 0.8644\n",
      "Epoch 26/100\n",
      "2344/2344 [==============================] - 2s 690us/step - loss: 0.2526 - accuracy: 0.8824 - val_loss: 0.2945 - val_accuracy: 0.8644\n",
      "Epoch 27/100\n",
      "2344/2344 [==============================] - 2s 724us/step - loss: 0.2513 - accuracy: 0.8823 - val_loss: 0.2919 - val_accuracy: 0.8661\n",
      "Epoch 28/100\n",
      "2344/2344 [==============================] - 2s 707us/step - loss: 0.2502 - accuracy: 0.8830 - val_loss: 0.2950 - val_accuracy: 0.8631\n",
      "Epoch 29/100\n",
      "2344/2344 [==============================] - 2s 738us/step - loss: 0.2479 - accuracy: 0.8834 - val_loss: 0.2932 - val_accuracy: 0.8628\n",
      "Epoch 30/100\n",
      "2344/2344 [==============================] - 2s 765us/step - loss: 0.2466 - accuracy: 0.8853 - val_loss: 0.2939 - val_accuracy: 0.8657\n",
      "Epoch 31/100\n",
      "2344/2344 [==============================] - 2s 847us/step - loss: 0.2447 - accuracy: 0.8857 - val_loss: 0.2956 - val_accuracy: 0.8627\n",
      "Epoch 32/100\n",
      "2344/2344 [==============================] - 2s 826us/step - loss: 0.2437 - accuracy: 0.8861 - val_loss: 0.2955 - val_accuracy: 0.8668\n",
      "Epoch 33/100\n",
      "2344/2344 [==============================] - 2s 727us/step - loss: 0.2424 - accuracy: 0.8865 - val_loss: 0.2948 - val_accuracy: 0.8649\n",
      "Epoch 34/100\n",
      "2344/2344 [==============================] - 2s 703us/step - loss: 0.2412 - accuracy: 0.8880 - val_loss: 0.2917 - val_accuracy: 0.8664\n",
      "Epoch 35/100\n",
      "2344/2344 [==============================] - 2s 717us/step - loss: 0.2397 - accuracy: 0.8883 - val_loss: 0.2948 - val_accuracy: 0.8652\n",
      "Epoch 36/100\n",
      "2344/2344 [==============================] - 2s 696us/step - loss: 0.2388 - accuracy: 0.8884 - val_loss: 0.2954 - val_accuracy: 0.8634\n",
      "Epoch 37/100\n",
      "2344/2344 [==============================] - 2s 715us/step - loss: 0.2370 - accuracy: 0.8890 - val_loss: 0.2975 - val_accuracy: 0.8619\n",
      "Epoch 38/100\n",
      "2344/2344 [==============================] - 2s 719us/step - loss: 0.2359 - accuracy: 0.8893 - val_loss: 0.3015 - val_accuracy: 0.8628\n",
      "Epoch 39/100\n",
      "2344/2344 [==============================] - 2s 707us/step - loss: 0.2345 - accuracy: 0.8908 - val_loss: 0.2990 - val_accuracy: 0.8677\n",
      "Epoch 40/100\n",
      "2344/2344 [==============================] - 2s 707us/step - loss: 0.2339 - accuracy: 0.8911 - val_loss: 0.2973 - val_accuracy: 0.8654\n",
      "Epoch 41/100\n",
      "2344/2344 [==============================] - 2s 701us/step - loss: 0.2322 - accuracy: 0.8916 - val_loss: 0.3005 - val_accuracy: 0.8656\n",
      "Epoch 42/100\n",
      "2344/2344 [==============================] - 2s 716us/step - loss: 0.2312 - accuracy: 0.8922 - val_loss: 0.3005 - val_accuracy: 0.8632\n",
      "Epoch 43/100\n",
      "2344/2344 [==============================] - 2s 706us/step - loss: 0.2300 - accuracy: 0.8932 - val_loss: 0.3027 - val_accuracy: 0.8617\n",
      "Epoch 44/100\n",
      "2344/2344 [==============================] - 2s 701us/step - loss: 0.2290 - accuracy: 0.8935 - val_loss: 0.2999 - val_accuracy: 0.8651\n",
      "Epoch 45/100\n",
      "2344/2344 [==============================] - 2s 704us/step - loss: 0.2281 - accuracy: 0.8942 - val_loss: 0.3021 - val_accuracy: 0.8664\n",
      "Epoch 46/100\n",
      "2344/2344 [==============================] - 2s 704us/step - loss: 0.2264 - accuracy: 0.8944 - val_loss: 0.3028 - val_accuracy: 0.8647\n",
      "Epoch 47/100\n",
      "2344/2344 [==============================] - 2s 703us/step - loss: 0.2259 - accuracy: 0.8960 - val_loss: 0.3073 - val_accuracy: 0.8628\n",
      "Epoch 48/100\n",
      "2344/2344 [==============================] - 2s 700us/step - loss: 0.2253 - accuracy: 0.8953 - val_loss: 0.3030 - val_accuracy: 0.8653\n",
      "Epoch 49/100\n",
      "2344/2344 [==============================] - 2s 712us/step - loss: 0.2239 - accuracy: 0.8966 - val_loss: 0.3035 - val_accuracy: 0.8643\n",
      "Epoch 50/100\n",
      "2344/2344 [==============================] - 2s 711us/step - loss: 0.2232 - accuracy: 0.8965 - val_loss: 0.3097 - val_accuracy: 0.8614\n",
      "Epoch 51/100\n",
      "2344/2344 [==============================] - 2s 713us/step - loss: 0.2222 - accuracy: 0.8972 - val_loss: 0.3152 - val_accuracy: 0.8641\n",
      "Epoch 52/100\n",
      "2344/2344 [==============================] - 2s 700us/step - loss: 0.2212 - accuracy: 0.8977 - val_loss: 0.3099 - val_accuracy: 0.8640\n",
      "Epoch 53/100\n",
      "2344/2344 [==============================] - 2s 708us/step - loss: 0.2203 - accuracy: 0.8976 - val_loss: 0.3150 - val_accuracy: 0.8619\n",
      "Epoch 54/100\n",
      "2344/2344 [==============================] - 2s 709us/step - loss: 0.2197 - accuracy: 0.8979 - val_loss: 0.3087 - val_accuracy: 0.8655\n",
      "Epoch 55/100\n",
      "2344/2344 [==============================] - 2s 709us/step - loss: 0.2183 - accuracy: 0.8992 - val_loss: 0.3162 - val_accuracy: 0.8606\n",
      "Epoch 56/100\n",
      "2344/2344 [==============================] - 2s 709us/step - loss: 0.2176 - accuracy: 0.8996 - val_loss: 0.3142 - val_accuracy: 0.8640\n",
      "Epoch 57/100\n",
      "2344/2344 [==============================] - 2s 715us/step - loss: 0.2176 - accuracy: 0.8992 - val_loss: 0.3137 - val_accuracy: 0.8620\n",
      "Epoch 58/100\n",
      "2344/2344 [==============================] - 2s 713us/step - loss: 0.2162 - accuracy: 0.9007 - val_loss: 0.3186 - val_accuracy: 0.8623\n",
      "Epoch 59/100\n",
      "2344/2344 [==============================] - 2s 707us/step - loss: 0.2156 - accuracy: 0.9008 - val_loss: 0.3161 - val_accuracy: 0.8625\n",
      "Epoch 60/100\n",
      "2344/2344 [==============================] - 2s 707us/step - loss: 0.2140 - accuracy: 0.9020 - val_loss: 0.3193 - val_accuracy: 0.8605\n",
      "Epoch 61/100\n",
      "2344/2344 [==============================] - 2s 726us/step - loss: 0.2139 - accuracy: 0.9011 - val_loss: 0.3174 - val_accuracy: 0.8603\n",
      "Epoch 62/100\n",
      "2344/2344 [==============================] - 2s 719us/step - loss: 0.2130 - accuracy: 0.9024 - val_loss: 0.3203 - val_accuracy: 0.8585\n",
      "Epoch 63/100\n",
      "2344/2344 [==============================] - 2s 708us/step - loss: 0.2126 - accuracy: 0.9020 - val_loss: 0.3200 - val_accuracy: 0.8621\n",
      "Epoch 64/100\n",
      "2344/2344 [==============================] - 2s 708us/step - loss: 0.2119 - accuracy: 0.9027 - val_loss: 0.3212 - val_accuracy: 0.8613\n",
      "Epoch 65/100\n",
      "2344/2344 [==============================] - 2s 703us/step - loss: 0.2111 - accuracy: 0.9031 - val_loss: 0.3192 - val_accuracy: 0.8613\n",
      "Epoch 66/100\n",
      "2344/2344 [==============================] - 2s 724us/step - loss: 0.2102 - accuracy: 0.9031 - val_loss: 0.3225 - val_accuracy: 0.8610\n",
      "Epoch 67/100\n",
      "2344/2344 [==============================] - 2s 719us/step - loss: 0.2101 - accuracy: 0.9035 - val_loss: 0.3229 - val_accuracy: 0.8622\n",
      "Epoch 68/100\n",
      "2344/2344 [==============================] - 2s 712us/step - loss: 0.2085 - accuracy: 0.9042 - val_loss: 0.3278 - val_accuracy: 0.8620\n",
      "Epoch 69/100\n",
      "2344/2344 [==============================] - 2s 705us/step - loss: 0.2092 - accuracy: 0.9034 - val_loss: 0.3244 - val_accuracy: 0.8629\n",
      "Epoch 70/100\n",
      "2344/2344 [==============================] - 2s 701us/step - loss: 0.2077 - accuracy: 0.9039 - val_loss: 0.3243 - val_accuracy: 0.8639\n",
      "Epoch 71/100\n",
      "2344/2344 [==============================] - 2s 722us/step - loss: 0.2069 - accuracy: 0.9047 - val_loss: 0.3285 - val_accuracy: 0.8614\n",
      "Epoch 72/100\n",
      "2344/2344 [==============================] - 2s 799us/step - loss: 0.2065 - accuracy: 0.9053 - val_loss: 0.3294 - val_accuracy: 0.8604\n",
      "Epoch 73/100\n",
      "2344/2344 [==============================] - 2s 820us/step - loss: 0.2059 - accuracy: 0.9049 - val_loss: 0.3318 - val_accuracy: 0.8602\n",
      "Epoch 74/100\n",
      "2344/2344 [==============================] - 2s 694us/step - loss: 0.2057 - accuracy: 0.9047 - val_loss: 0.3278 - val_accuracy: 0.8632\n",
      "Epoch 75/100\n",
      "2344/2344 [==============================] - 2s 713us/step - loss: 0.2053 - accuracy: 0.9061 - val_loss: 0.3304 - val_accuracy: 0.8624\n",
      "Epoch 76/100\n",
      "2344/2344 [==============================] - 2s 766us/step - loss: 0.2037 - accuracy: 0.9069 - val_loss: 0.3329 - val_accuracy: 0.8617\n",
      "Epoch 77/100\n",
      "2344/2344 [==============================] - 2s 740us/step - loss: 0.2036 - accuracy: 0.9065 - val_loss: 0.3336 - val_accuracy: 0.8618\n",
      "Epoch 78/100\n",
      "2344/2344 [==============================] - 2s 713us/step - loss: 0.2031 - accuracy: 0.9064 - val_loss: 0.3325 - val_accuracy: 0.8604\n",
      "Epoch 79/100\n",
      "2344/2344 [==============================] - 2s 714us/step - loss: 0.2026 - accuracy: 0.9066 - val_loss: 0.3321 - val_accuracy: 0.8609\n",
      "Epoch 80/100\n",
      "2344/2344 [==============================] - 2s 706us/step - loss: 0.2027 - accuracy: 0.9076 - val_loss: 0.3359 - val_accuracy: 0.8609\n",
      "Epoch 81/100\n",
      "2344/2344 [==============================] - 2s 703us/step - loss: 0.2015 - accuracy: 0.9071 - val_loss: 0.3361 - val_accuracy: 0.8596\n",
      "Epoch 82/100\n",
      "2344/2344 [==============================] - 2s 709us/step - loss: 0.2017 - accuracy: 0.9075 - val_loss: 0.3342 - val_accuracy: 0.8624\n",
      "Epoch 83/100\n",
      "2344/2344 [==============================] - 2s 707us/step - loss: 0.2010 - accuracy: 0.9073 - val_loss: 0.3337 - val_accuracy: 0.8641\n",
      "Epoch 84/100\n",
      "2344/2344 [==============================] - 2s 714us/step - loss: 0.2002 - accuracy: 0.9084 - val_loss: 0.3416 - val_accuracy: 0.8623\n",
      "Epoch 85/100\n",
      "2344/2344 [==============================] - 2s 715us/step - loss: 0.2000 - accuracy: 0.9081 - val_loss: 0.3373 - val_accuracy: 0.8595\n",
      "Epoch 86/100\n",
      "2344/2344 [==============================] - 2s 726us/step - loss: 0.1993 - accuracy: 0.9077 - val_loss: 0.3398 - val_accuracy: 0.8601\n",
      "Epoch 87/100\n",
      "2344/2344 [==============================] - 2s 716us/step - loss: 0.1995 - accuracy: 0.9085 - val_loss: 0.3450 - val_accuracy: 0.8613\n",
      "Epoch 88/100\n",
      "2344/2344 [==============================] - 2s 723us/step - loss: 0.1985 - accuracy: 0.9091 - val_loss: 0.3461 - val_accuracy: 0.8575\n",
      "Epoch 89/100\n",
      "2344/2344 [==============================] - 2s 719us/step - loss: 0.1976 - accuracy: 0.9088 - val_loss: 0.3393 - val_accuracy: 0.8615\n",
      "Epoch 90/100\n",
      "2344/2344 [==============================] - 2s 725us/step - loss: 0.1977 - accuracy: 0.9083 - val_loss: 0.3431 - val_accuracy: 0.8581\n",
      "Epoch 91/100\n",
      "2344/2344 [==============================] - 2s 768us/step - loss: 0.1970 - accuracy: 0.9097 - val_loss: 0.3422 - val_accuracy: 0.8592\n",
      "Epoch 92/100\n",
      "2344/2344 [==============================] - 2s 713us/step - loss: 0.1967 - accuracy: 0.9101 - val_loss: 0.3439 - val_accuracy: 0.8607\n",
      "Epoch 93/100\n",
      "2344/2344 [==============================] - 2s 700us/step - loss: 0.1964 - accuracy: 0.9098 - val_loss: 0.3430 - val_accuracy: 0.8600\n",
      "Epoch 94/100\n",
      "2271/2344 [============================>.] - ETA: 0s - loss: 0.1961 - accuracy: 0.9096"
     ]
    },
    {
     "ename": "KeyboardInterrupt",
     "evalue": "",
     "output_type": "error",
     "traceback": [
      "\u001b[0;31m---------------------------------------------------------------------------\u001b[0m",
      "\u001b[0;31mKeyboardInterrupt\u001b[0m                         Traceback (most recent call last)",
      "Cell \u001b[0;32mIn[43], line 10\u001b[0m\n\u001b[1;32m      1\u001b[0m tuner \u001b[38;5;241m=\u001b[39m keras_tuner\u001b[38;5;241m.\u001b[39mHyperband(\n\u001b[1;32m      2\u001b[0m     hypermodel\u001b[38;5;241m=\u001b[39mbuild_model,\n\u001b[1;32m      3\u001b[0m     objective\u001b[38;5;241m=\u001b[39m\u001b[38;5;124m\"\u001b[39m\u001b[38;5;124mval_accuracy\u001b[39m\u001b[38;5;124m\"\u001b[39m,\n\u001b[0;32m   (...)\u001b[0m\n\u001b[1;32m      6\u001b[0m     project_name\u001b[38;5;241m=\u001b[39m\u001b[38;5;124m\"\u001b[39m\u001b[38;5;124mhotel\u001b[39m\u001b[38;5;124m\"\u001b[39m,\n\u001b[1;32m      7\u001b[0m )\n\u001b[1;32m      8\u001b[0m tuner\u001b[38;5;241m.\u001b[39msearch_space_summary()\n\u001b[0;32m---> 10\u001b[0m \u001b[43mtuner\u001b[49m\u001b[38;5;241;43m.\u001b[39;49m\u001b[43msearch\u001b[49m\u001b[43m(\u001b[49m\u001b[43mX_train\u001b[49m\u001b[43m,\u001b[49m\u001b[43m \u001b[49m\u001b[43my_train\u001b[49m\u001b[43m,\u001b[49m\u001b[43m \u001b[49m\u001b[43mvalidation_data\u001b[49m\u001b[38;5;241;43m=\u001b[39;49m\u001b[43m(\u001b[49m\u001b[43mX_valid\u001b[49m\u001b[43m,\u001b[49m\u001b[43m \u001b[49m\u001b[43my_valid\u001b[49m\u001b[43m)\u001b[49m\u001b[43m)\u001b[49m\n",
      "File \u001b[0;32m~/Software/miniforge3/envs/ml/lib/python3.10/site-packages/keras_tuner/src/engine/base_tuner.py:233\u001b[0m, in \u001b[0;36mBaseTuner.search\u001b[0;34m(self, *fit_args, **fit_kwargs)\u001b[0m\n\u001b[1;32m    230\u001b[0m         \u001b[38;5;28;01mcontinue\u001b[39;00m\n\u001b[1;32m    232\u001b[0m     \u001b[38;5;28mself\u001b[39m\u001b[38;5;241m.\u001b[39mon_trial_begin(trial)\n\u001b[0;32m--> 233\u001b[0m     \u001b[38;5;28;43mself\u001b[39;49m\u001b[38;5;241;43m.\u001b[39;49m\u001b[43m_try_run_and_update_trial\u001b[49m\u001b[43m(\u001b[49m\u001b[43mtrial\u001b[49m\u001b[43m,\u001b[49m\u001b[43m \u001b[49m\u001b[38;5;241;43m*\u001b[39;49m\u001b[43mfit_args\u001b[49m\u001b[43m,\u001b[49m\u001b[43m \u001b[49m\u001b[38;5;241;43m*\u001b[39;49m\u001b[38;5;241;43m*\u001b[39;49m\u001b[43mfit_kwargs\u001b[49m\u001b[43m)\u001b[49m\n\u001b[1;32m    234\u001b[0m     \u001b[38;5;28mself\u001b[39m\u001b[38;5;241m.\u001b[39mon_trial_end(trial)\n\u001b[1;32m    235\u001b[0m \u001b[38;5;28mself\u001b[39m\u001b[38;5;241m.\u001b[39mon_search_end()\n",
      "File \u001b[0;32m~/Software/miniforge3/envs/ml/lib/python3.10/site-packages/keras_tuner/src/engine/base_tuner.py:273\u001b[0m, in \u001b[0;36mBaseTuner._try_run_and_update_trial\u001b[0;34m(self, trial, *fit_args, **fit_kwargs)\u001b[0m\n\u001b[1;32m    271\u001b[0m \u001b[38;5;28;01mdef\u001b[39;00m \u001b[38;5;21m_try_run_and_update_trial\u001b[39m(\u001b[38;5;28mself\u001b[39m, trial, \u001b[38;5;241m*\u001b[39mfit_args, \u001b[38;5;241m*\u001b[39m\u001b[38;5;241m*\u001b[39mfit_kwargs):\n\u001b[1;32m    272\u001b[0m     \u001b[38;5;28;01mtry\u001b[39;00m:\n\u001b[0;32m--> 273\u001b[0m         \u001b[38;5;28;43mself\u001b[39;49m\u001b[38;5;241;43m.\u001b[39;49m\u001b[43m_run_and_update_trial\u001b[49m\u001b[43m(\u001b[49m\u001b[43mtrial\u001b[49m\u001b[43m,\u001b[49m\u001b[43m \u001b[49m\u001b[38;5;241;43m*\u001b[39;49m\u001b[43mfit_args\u001b[49m\u001b[43m,\u001b[49m\u001b[43m \u001b[49m\u001b[38;5;241;43m*\u001b[39;49m\u001b[38;5;241;43m*\u001b[39;49m\u001b[43mfit_kwargs\u001b[49m\u001b[43m)\u001b[49m\n\u001b[1;32m    274\u001b[0m         trial\u001b[38;5;241m.\u001b[39mstatus \u001b[38;5;241m=\u001b[39m trial_module\u001b[38;5;241m.\u001b[39mTrialStatus\u001b[38;5;241m.\u001b[39mCOMPLETED\n\u001b[1;32m    275\u001b[0m         \u001b[38;5;28;01mreturn\u001b[39;00m\n",
      "File \u001b[0;32m~/Software/miniforge3/envs/ml/lib/python3.10/site-packages/keras_tuner/src/engine/base_tuner.py:238\u001b[0m, in \u001b[0;36mBaseTuner._run_and_update_trial\u001b[0;34m(self, trial, *fit_args, **fit_kwargs)\u001b[0m\n\u001b[1;32m    237\u001b[0m \u001b[38;5;28;01mdef\u001b[39;00m \u001b[38;5;21m_run_and_update_trial\u001b[39m(\u001b[38;5;28mself\u001b[39m, trial, \u001b[38;5;241m*\u001b[39mfit_args, \u001b[38;5;241m*\u001b[39m\u001b[38;5;241m*\u001b[39mfit_kwargs):\n\u001b[0;32m--> 238\u001b[0m     results \u001b[38;5;241m=\u001b[39m \u001b[38;5;28;43mself\u001b[39;49m\u001b[38;5;241;43m.\u001b[39;49m\u001b[43mrun_trial\u001b[49m\u001b[43m(\u001b[49m\u001b[43mtrial\u001b[49m\u001b[43m,\u001b[49m\u001b[43m \u001b[49m\u001b[38;5;241;43m*\u001b[39;49m\u001b[43mfit_args\u001b[49m\u001b[43m,\u001b[49m\u001b[43m \u001b[49m\u001b[38;5;241;43m*\u001b[39;49m\u001b[38;5;241;43m*\u001b[39;49m\u001b[43mfit_kwargs\u001b[49m\u001b[43m)\u001b[49m\n\u001b[1;32m    239\u001b[0m     \u001b[38;5;28;01mif\u001b[39;00m \u001b[38;5;28mself\u001b[39m\u001b[38;5;241m.\u001b[39moracle\u001b[38;5;241m.\u001b[39mget_trial(trial\u001b[38;5;241m.\u001b[39mtrial_id)\u001b[38;5;241m.\u001b[39mmetrics\u001b[38;5;241m.\u001b[39mexists(\n\u001b[1;32m    240\u001b[0m         \u001b[38;5;28mself\u001b[39m\u001b[38;5;241m.\u001b[39moracle\u001b[38;5;241m.\u001b[39mobjective\u001b[38;5;241m.\u001b[39mname\n\u001b[1;32m    241\u001b[0m     ):\n\u001b[1;32m    242\u001b[0m         \u001b[38;5;66;03m# The oracle is updated by calling `self.oracle.update_trial()` in\u001b[39;00m\n\u001b[1;32m    243\u001b[0m         \u001b[38;5;66;03m# `Tuner.run_trial()`. For backward compatibility, we support this\u001b[39;00m\n\u001b[1;32m    244\u001b[0m         \u001b[38;5;66;03m# use case. No further action needed in this case.\u001b[39;00m\n\u001b[1;32m    245\u001b[0m         warnings\u001b[38;5;241m.\u001b[39mwarn(\n\u001b[1;32m    246\u001b[0m             \u001b[38;5;124m\"\u001b[39m\u001b[38;5;124mThe use case of calling \u001b[39m\u001b[38;5;124m\"\u001b[39m\n\u001b[1;32m    247\u001b[0m             \u001b[38;5;124m\"\u001b[39m\u001b[38;5;124m`self.oracle.update_trial(trial_id, metrics)` \u001b[39m\u001b[38;5;124m\"\u001b[39m\n\u001b[0;32m   (...)\u001b[0m\n\u001b[1;32m    253\u001b[0m             stacklevel\u001b[38;5;241m=\u001b[39m\u001b[38;5;241m2\u001b[39m,\n\u001b[1;32m    254\u001b[0m         )\n",
      "File \u001b[0;32m~/Software/miniforge3/envs/ml/lib/python3.10/site-packages/keras_tuner/src/tuners/hyperband.py:427\u001b[0m, in \u001b[0;36mHyperband.run_trial\u001b[0;34m(self, trial, *fit_args, **fit_kwargs)\u001b[0m\n\u001b[1;32m    425\u001b[0m     fit_kwargs[\u001b[38;5;124m\"\u001b[39m\u001b[38;5;124mepochs\u001b[39m\u001b[38;5;124m\"\u001b[39m] \u001b[38;5;241m=\u001b[39m hp\u001b[38;5;241m.\u001b[39mvalues[\u001b[38;5;124m\"\u001b[39m\u001b[38;5;124mtuner/epochs\u001b[39m\u001b[38;5;124m\"\u001b[39m]\n\u001b[1;32m    426\u001b[0m     fit_kwargs[\u001b[38;5;124m\"\u001b[39m\u001b[38;5;124minitial_epoch\u001b[39m\u001b[38;5;124m\"\u001b[39m] \u001b[38;5;241m=\u001b[39m hp\u001b[38;5;241m.\u001b[39mvalues[\u001b[38;5;124m\"\u001b[39m\u001b[38;5;124mtuner/initial_epoch\u001b[39m\u001b[38;5;124m\"\u001b[39m]\n\u001b[0;32m--> 427\u001b[0m \u001b[38;5;28;01mreturn\u001b[39;00m \u001b[38;5;28;43msuper\u001b[39;49m\u001b[43m(\u001b[49m\u001b[43m)\u001b[49m\u001b[38;5;241;43m.\u001b[39;49m\u001b[43mrun_trial\u001b[49m\u001b[43m(\u001b[49m\u001b[43mtrial\u001b[49m\u001b[43m,\u001b[49m\u001b[43m \u001b[49m\u001b[38;5;241;43m*\u001b[39;49m\u001b[43mfit_args\u001b[49m\u001b[43m,\u001b[49m\u001b[43m \u001b[49m\u001b[38;5;241;43m*\u001b[39;49m\u001b[38;5;241;43m*\u001b[39;49m\u001b[43mfit_kwargs\u001b[49m\u001b[43m)\u001b[49m\n",
      "File \u001b[0;32m~/Software/miniforge3/envs/ml/lib/python3.10/site-packages/keras_tuner/src/engine/tuner.py:314\u001b[0m, in \u001b[0;36mTuner.run_trial\u001b[0;34m(self, trial, *args, **kwargs)\u001b[0m\n\u001b[1;32m    312\u001b[0m     callbacks\u001b[38;5;241m.\u001b[39mappend(model_checkpoint)\n\u001b[1;32m    313\u001b[0m     copied_kwargs[\u001b[38;5;124m\"\u001b[39m\u001b[38;5;124mcallbacks\u001b[39m\u001b[38;5;124m\"\u001b[39m] \u001b[38;5;241m=\u001b[39m callbacks\n\u001b[0;32m--> 314\u001b[0m     obj_value \u001b[38;5;241m=\u001b[39m \u001b[38;5;28;43mself\u001b[39;49m\u001b[38;5;241;43m.\u001b[39;49m\u001b[43m_build_and_fit_model\u001b[49m\u001b[43m(\u001b[49m\u001b[43mtrial\u001b[49m\u001b[43m,\u001b[49m\u001b[43m \u001b[49m\u001b[38;5;241;43m*\u001b[39;49m\u001b[43margs\u001b[49m\u001b[43m,\u001b[49m\u001b[43m \u001b[49m\u001b[38;5;241;43m*\u001b[39;49m\u001b[38;5;241;43m*\u001b[39;49m\u001b[43mcopied_kwargs\u001b[49m\u001b[43m)\u001b[49m\n\u001b[1;32m    316\u001b[0m     histories\u001b[38;5;241m.\u001b[39mappend(obj_value)\n\u001b[1;32m    317\u001b[0m \u001b[38;5;28;01mreturn\u001b[39;00m histories\n",
      "File \u001b[0;32m~/Software/miniforge3/envs/ml/lib/python3.10/site-packages/keras_tuner/src/engine/tuner.py:233\u001b[0m, in \u001b[0;36mTuner._build_and_fit_model\u001b[0;34m(self, trial, *args, **kwargs)\u001b[0m\n\u001b[1;32m    231\u001b[0m hp \u001b[38;5;241m=\u001b[39m trial\u001b[38;5;241m.\u001b[39mhyperparameters\n\u001b[1;32m    232\u001b[0m model \u001b[38;5;241m=\u001b[39m \u001b[38;5;28mself\u001b[39m\u001b[38;5;241m.\u001b[39m_try_build(hp)\n\u001b[0;32m--> 233\u001b[0m results \u001b[38;5;241m=\u001b[39m \u001b[38;5;28;43mself\u001b[39;49m\u001b[38;5;241;43m.\u001b[39;49m\u001b[43mhypermodel\u001b[49m\u001b[38;5;241;43m.\u001b[39;49m\u001b[43mfit\u001b[49m\u001b[43m(\u001b[49m\u001b[43mhp\u001b[49m\u001b[43m,\u001b[49m\u001b[43m \u001b[49m\u001b[43mmodel\u001b[49m\u001b[43m,\u001b[49m\u001b[43m \u001b[49m\u001b[38;5;241;43m*\u001b[39;49m\u001b[43margs\u001b[49m\u001b[43m,\u001b[49m\u001b[43m \u001b[49m\u001b[38;5;241;43m*\u001b[39;49m\u001b[38;5;241;43m*\u001b[39;49m\u001b[43mkwargs\u001b[49m\u001b[43m)\u001b[49m\n\u001b[1;32m    235\u001b[0m \u001b[38;5;66;03m# Save the build config for model loading later.\u001b[39;00m\n\u001b[1;32m    236\u001b[0m \u001b[38;5;28;01mif\u001b[39;00m backend\u001b[38;5;241m.\u001b[39mconfig\u001b[38;5;241m.\u001b[39mmulti_backend():\n",
      "File \u001b[0;32m~/Software/miniforge3/envs/ml/lib/python3.10/site-packages/keras_tuner/src/engine/hypermodel.py:149\u001b[0m, in \u001b[0;36mHyperModel.fit\u001b[0;34m(self, hp, model, *args, **kwargs)\u001b[0m\n\u001b[1;32m    125\u001b[0m \u001b[38;5;28;01mdef\u001b[39;00m \u001b[38;5;21mfit\u001b[39m(\u001b[38;5;28mself\u001b[39m, hp, model, \u001b[38;5;241m*\u001b[39margs, \u001b[38;5;241m*\u001b[39m\u001b[38;5;241m*\u001b[39mkwargs):\n\u001b[1;32m    126\u001b[0m \u001b[38;5;250m    \u001b[39m\u001b[38;5;124;03m\"\"\"Train the model.\u001b[39;00m\n\u001b[1;32m    127\u001b[0m \n\u001b[1;32m    128\u001b[0m \u001b[38;5;124;03m    Args:\u001b[39;00m\n\u001b[0;32m   (...)\u001b[0m\n\u001b[1;32m    147\u001b[0m \u001b[38;5;124;03m        If return a float, it should be the `objective` value.\u001b[39;00m\n\u001b[1;32m    148\u001b[0m \u001b[38;5;124;03m    \"\"\"\u001b[39;00m\n\u001b[0;32m--> 149\u001b[0m     \u001b[38;5;28;01mreturn\u001b[39;00m \u001b[43mmodel\u001b[49m\u001b[38;5;241;43m.\u001b[39;49m\u001b[43mfit\u001b[49m\u001b[43m(\u001b[49m\u001b[38;5;241;43m*\u001b[39;49m\u001b[43margs\u001b[49m\u001b[43m,\u001b[49m\u001b[43m \u001b[49m\u001b[38;5;241;43m*\u001b[39;49m\u001b[38;5;241;43m*\u001b[39;49m\u001b[43mkwargs\u001b[49m\u001b[43m)\u001b[49m\n",
      "File \u001b[0;32m~/Software/miniforge3/envs/ml/lib/python3.10/site-packages/keras/utils/traceback_utils.py:65\u001b[0m, in \u001b[0;36mfilter_traceback.<locals>.error_handler\u001b[0;34m(*args, **kwargs)\u001b[0m\n\u001b[1;32m     63\u001b[0m filtered_tb \u001b[38;5;241m=\u001b[39m \u001b[38;5;28;01mNone\u001b[39;00m\n\u001b[1;32m     64\u001b[0m \u001b[38;5;28;01mtry\u001b[39;00m:\n\u001b[0;32m---> 65\u001b[0m     \u001b[38;5;28;01mreturn\u001b[39;00m \u001b[43mfn\u001b[49m\u001b[43m(\u001b[49m\u001b[38;5;241;43m*\u001b[39;49m\u001b[43margs\u001b[49m\u001b[43m,\u001b[49m\u001b[43m \u001b[49m\u001b[38;5;241;43m*\u001b[39;49m\u001b[38;5;241;43m*\u001b[39;49m\u001b[43mkwargs\u001b[49m\u001b[43m)\u001b[49m\n\u001b[1;32m     66\u001b[0m \u001b[38;5;28;01mexcept\u001b[39;00m \u001b[38;5;167;01mException\u001b[39;00m \u001b[38;5;28;01mas\u001b[39;00m e:\n\u001b[1;32m     67\u001b[0m     filtered_tb \u001b[38;5;241m=\u001b[39m _process_traceback_frames(e\u001b[38;5;241m.\u001b[39m__traceback__)\n",
      "File \u001b[0;32m~/Software/miniforge3/envs/ml/lib/python3.10/site-packages/keras/engine/training.py:1656\u001b[0m, in \u001b[0;36mModel.fit\u001b[0;34m(self, x, y, batch_size, epochs, verbose, callbacks, validation_split, validation_data, shuffle, class_weight, sample_weight, initial_epoch, steps_per_epoch, validation_steps, validation_batch_size, validation_freq, max_queue_size, workers, use_multiprocessing)\u001b[0m\n\u001b[1;32m   1654\u001b[0m logs \u001b[38;5;241m=\u001b[39m tmp_logs\n\u001b[1;32m   1655\u001b[0m end_step \u001b[38;5;241m=\u001b[39m step \u001b[38;5;241m+\u001b[39m data_handler\u001b[38;5;241m.\u001b[39mstep_increment\n\u001b[0;32m-> 1656\u001b[0m \u001b[43mcallbacks\u001b[49m\u001b[38;5;241;43m.\u001b[39;49m\u001b[43mon_train_batch_end\u001b[49m\u001b[43m(\u001b[49m\u001b[43mend_step\u001b[49m\u001b[43m,\u001b[49m\u001b[43m \u001b[49m\u001b[43mlogs\u001b[49m\u001b[43m)\u001b[49m\n\u001b[1;32m   1657\u001b[0m \u001b[38;5;28;01mif\u001b[39;00m \u001b[38;5;28mself\u001b[39m\u001b[38;5;241m.\u001b[39mstop_training:\n\u001b[1;32m   1658\u001b[0m     \u001b[38;5;28;01mbreak\u001b[39;00m\n",
      "File \u001b[0;32m~/Software/miniforge3/envs/ml/lib/python3.10/site-packages/keras/callbacks.py:476\u001b[0m, in \u001b[0;36mCallbackList.on_train_batch_end\u001b[0;34m(self, batch, logs)\u001b[0m\n\u001b[1;32m    469\u001b[0m \u001b[38;5;250m\u001b[39m\u001b[38;5;124;03m\"\"\"Calls the `on_train_batch_end` methods of its callbacks.\u001b[39;00m\n\u001b[1;32m    470\u001b[0m \n\u001b[1;32m    471\u001b[0m \u001b[38;5;124;03mArgs:\u001b[39;00m\n\u001b[1;32m    472\u001b[0m \u001b[38;5;124;03m    batch: Integer, index of batch within the current epoch.\u001b[39;00m\n\u001b[1;32m    473\u001b[0m \u001b[38;5;124;03m    logs: Dict. Aggregated metric results up until this batch.\u001b[39;00m\n\u001b[1;32m    474\u001b[0m \u001b[38;5;124;03m\"\"\"\u001b[39;00m\n\u001b[1;32m    475\u001b[0m \u001b[38;5;28;01mif\u001b[39;00m \u001b[38;5;28mself\u001b[39m\u001b[38;5;241m.\u001b[39m_should_call_train_batch_hooks:\n\u001b[0;32m--> 476\u001b[0m     \u001b[38;5;28;43mself\u001b[39;49m\u001b[38;5;241;43m.\u001b[39;49m\u001b[43m_call_batch_hook\u001b[49m\u001b[43m(\u001b[49m\u001b[43mModeKeys\u001b[49m\u001b[38;5;241;43m.\u001b[39;49m\u001b[43mTRAIN\u001b[49m\u001b[43m,\u001b[49m\u001b[43m \u001b[49m\u001b[38;5;124;43m\"\u001b[39;49m\u001b[38;5;124;43mend\u001b[39;49m\u001b[38;5;124;43m\"\u001b[39;49m\u001b[43m,\u001b[49m\u001b[43m \u001b[49m\u001b[43mbatch\u001b[49m\u001b[43m,\u001b[49m\u001b[43m \u001b[49m\u001b[43mlogs\u001b[49m\u001b[38;5;241;43m=\u001b[39;49m\u001b[43mlogs\u001b[49m\u001b[43m)\u001b[49m\n",
      "File \u001b[0;32m~/Software/miniforge3/envs/ml/lib/python3.10/site-packages/keras/callbacks.py:323\u001b[0m, in \u001b[0;36mCallbackList._call_batch_hook\u001b[0;34m(self, mode, hook, batch, logs)\u001b[0m\n\u001b[1;32m    321\u001b[0m     \u001b[38;5;28mself\u001b[39m\u001b[38;5;241m.\u001b[39m_call_batch_begin_hook(mode, batch, logs)\n\u001b[1;32m    322\u001b[0m \u001b[38;5;28;01melif\u001b[39;00m hook \u001b[38;5;241m==\u001b[39m \u001b[38;5;124m\"\u001b[39m\u001b[38;5;124mend\u001b[39m\u001b[38;5;124m\"\u001b[39m:\n\u001b[0;32m--> 323\u001b[0m     \u001b[38;5;28;43mself\u001b[39;49m\u001b[38;5;241;43m.\u001b[39;49m\u001b[43m_call_batch_end_hook\u001b[49m\u001b[43m(\u001b[49m\u001b[43mmode\u001b[49m\u001b[43m,\u001b[49m\u001b[43m \u001b[49m\u001b[43mbatch\u001b[49m\u001b[43m,\u001b[49m\u001b[43m \u001b[49m\u001b[43mlogs\u001b[49m\u001b[43m)\u001b[49m\n\u001b[1;32m    324\u001b[0m \u001b[38;5;28;01melse\u001b[39;00m:\n\u001b[1;32m    325\u001b[0m     \u001b[38;5;28;01mraise\u001b[39;00m \u001b[38;5;167;01mValueError\u001b[39;00m(\n\u001b[1;32m    326\u001b[0m         \u001b[38;5;124mf\u001b[39m\u001b[38;5;124m\"\u001b[39m\u001b[38;5;124mUnrecognized hook: \u001b[39m\u001b[38;5;132;01m{\u001b[39;00mhook\u001b[38;5;132;01m}\u001b[39;00m\u001b[38;5;124m. \u001b[39m\u001b[38;5;124m\"\u001b[39m\n\u001b[1;32m    327\u001b[0m         \u001b[38;5;124m'\u001b[39m\u001b[38;5;124mExpected values are [\u001b[39m\u001b[38;5;124m\"\u001b[39m\u001b[38;5;124mbegin\u001b[39m\u001b[38;5;124m\"\u001b[39m\u001b[38;5;124m, \u001b[39m\u001b[38;5;124m\"\u001b[39m\u001b[38;5;124mend\u001b[39m\u001b[38;5;124m\"\u001b[39m\u001b[38;5;124m]\u001b[39m\u001b[38;5;124m'\u001b[39m\n\u001b[1;32m    328\u001b[0m     )\n",
      "File \u001b[0;32m~/Software/miniforge3/envs/ml/lib/python3.10/site-packages/keras/callbacks.py:346\u001b[0m, in \u001b[0;36mCallbackList._call_batch_end_hook\u001b[0;34m(self, mode, batch, logs)\u001b[0m\n\u001b[1;32m    343\u001b[0m     batch_time \u001b[38;5;241m=\u001b[39m time\u001b[38;5;241m.\u001b[39mtime() \u001b[38;5;241m-\u001b[39m \u001b[38;5;28mself\u001b[39m\u001b[38;5;241m.\u001b[39m_batch_start_time\n\u001b[1;32m    344\u001b[0m     \u001b[38;5;28mself\u001b[39m\u001b[38;5;241m.\u001b[39m_batch_times\u001b[38;5;241m.\u001b[39mappend(batch_time)\n\u001b[0;32m--> 346\u001b[0m \u001b[38;5;28;43mself\u001b[39;49m\u001b[38;5;241;43m.\u001b[39;49m\u001b[43m_call_batch_hook_helper\u001b[49m\u001b[43m(\u001b[49m\u001b[43mhook_name\u001b[49m\u001b[43m,\u001b[49m\u001b[43m \u001b[49m\u001b[43mbatch\u001b[49m\u001b[43m,\u001b[49m\u001b[43m \u001b[49m\u001b[43mlogs\u001b[49m\u001b[43m)\u001b[49m\n\u001b[1;32m    348\u001b[0m \u001b[38;5;28;01mif\u001b[39;00m \u001b[38;5;28mlen\u001b[39m(\u001b[38;5;28mself\u001b[39m\u001b[38;5;241m.\u001b[39m_batch_times) \u001b[38;5;241m>\u001b[39m\u001b[38;5;241m=\u001b[39m \u001b[38;5;28mself\u001b[39m\u001b[38;5;241m.\u001b[39m_num_batches_for_timing_check:\n\u001b[1;32m    349\u001b[0m     end_hook_name \u001b[38;5;241m=\u001b[39m hook_name\n",
      "File \u001b[0;32m~/Software/miniforge3/envs/ml/lib/python3.10/site-packages/keras/callbacks.py:391\u001b[0m, in \u001b[0;36mCallbackList._call_batch_hook_helper\u001b[0;34m(self, hook_name, batch, logs)\u001b[0m\n\u001b[1;32m    388\u001b[0m \u001b[38;5;28;01mif\u001b[39;00m \u001b[38;5;28mself\u001b[39m\u001b[38;5;241m.\u001b[39m_check_timing:\n\u001b[1;32m    389\u001b[0m     start_time \u001b[38;5;241m=\u001b[39m time\u001b[38;5;241m.\u001b[39mtime()\n\u001b[0;32m--> 391\u001b[0m logs \u001b[38;5;241m=\u001b[39m \u001b[38;5;28;43mself\u001b[39;49m\u001b[38;5;241;43m.\u001b[39;49m\u001b[43m_process_logs\u001b[49m\u001b[43m(\u001b[49m\u001b[43mlogs\u001b[49m\u001b[43m,\u001b[49m\u001b[43m \u001b[49m\u001b[43mis_batch_hook\u001b[49m\u001b[38;5;241;43m=\u001b[39;49m\u001b[38;5;28;43;01mTrue\u001b[39;49;00m\u001b[43m)\u001b[49m\n\u001b[1;32m    392\u001b[0m \u001b[38;5;28;01mfor\u001b[39;00m callback \u001b[38;5;129;01min\u001b[39;00m \u001b[38;5;28mself\u001b[39m\u001b[38;5;241m.\u001b[39mcallbacks:\n\u001b[1;32m    393\u001b[0m     hook \u001b[38;5;241m=\u001b[39m \u001b[38;5;28mgetattr\u001b[39m(callback, hook_name)\n",
      "File \u001b[0;32m~/Software/miniforge3/envs/ml/lib/python3.10/site-packages/keras/callbacks.py:298\u001b[0m, in \u001b[0;36mCallbackList._process_logs\u001b[0;34m(self, logs, is_batch_hook)\u001b[0m\n\u001b[1;32m    296\u001b[0m \u001b[38;5;28;01mif\u001b[39;00m is_batch_hook \u001b[38;5;129;01mand\u001b[39;00m \u001b[38;5;28mself\u001b[39m\u001b[38;5;241m.\u001b[39m_batch_hooks_support_tf_logs:\n\u001b[1;32m    297\u001b[0m     \u001b[38;5;28;01mreturn\u001b[39;00m logs\n\u001b[0;32m--> 298\u001b[0m \u001b[38;5;28;01mreturn\u001b[39;00m \u001b[43mtf_utils\u001b[49m\u001b[38;5;241;43m.\u001b[39;49m\u001b[43msync_to_numpy_or_python_type\u001b[49m\u001b[43m(\u001b[49m\u001b[43mlogs\u001b[49m\u001b[43m)\u001b[49m\n",
      "File \u001b[0;32m~/Software/miniforge3/envs/ml/lib/python3.10/site-packages/keras/utils/tf_utils.py:665\u001b[0m, in \u001b[0;36msync_to_numpy_or_python_type\u001b[0;34m(tensors)\u001b[0m\n\u001b[1;32m    662\u001b[0m         \u001b[38;5;28;01mreturn\u001b[39;00m t\n\u001b[1;32m    663\u001b[0m     \u001b[38;5;28;01mreturn\u001b[39;00m t\u001b[38;5;241m.\u001b[39mitem() \u001b[38;5;28;01mif\u001b[39;00m np\u001b[38;5;241m.\u001b[39mndim(t) \u001b[38;5;241m==\u001b[39m \u001b[38;5;241m0\u001b[39m \u001b[38;5;28;01melse\u001b[39;00m t\n\u001b[0;32m--> 665\u001b[0m \u001b[38;5;28;01mreturn\u001b[39;00m \u001b[43mtf\u001b[49m\u001b[38;5;241;43m.\u001b[39;49m\u001b[43mnest\u001b[49m\u001b[38;5;241;43m.\u001b[39;49m\u001b[43mmap_structure\u001b[49m\u001b[43m(\u001b[49m\u001b[43m_to_single_numpy_or_python_type\u001b[49m\u001b[43m,\u001b[49m\u001b[43m \u001b[49m\u001b[43mtensors\u001b[49m\u001b[43m)\u001b[49m\n",
      "File \u001b[0;32m~/Software/miniforge3/envs/ml/lib/python3.10/site-packages/tensorflow/python/util/nest.py:916\u001b[0m, in \u001b[0;36mmap_structure\u001b[0;34m(func, *structure, **kwargs)\u001b[0m\n\u001b[1;32m    913\u001b[0m flat_structure \u001b[38;5;241m=\u001b[39m (flatten(s, expand_composites) \u001b[38;5;28;01mfor\u001b[39;00m s \u001b[38;5;129;01min\u001b[39;00m structure)\n\u001b[1;32m    914\u001b[0m entries \u001b[38;5;241m=\u001b[39m \u001b[38;5;28mzip\u001b[39m(\u001b[38;5;241m*\u001b[39mflat_structure)\n\u001b[0;32m--> 916\u001b[0m \u001b[38;5;28;01mreturn\u001b[39;00m \u001b[43mpack_sequence_as\u001b[49m\u001b[43m(\u001b[49m\n\u001b[1;32m    917\u001b[0m \u001b[43m    \u001b[49m\u001b[43mstructure\u001b[49m\u001b[43m[\u001b[49m\u001b[38;5;241;43m0\u001b[39;49m\u001b[43m]\u001b[49m\u001b[43m,\u001b[49m\u001b[43m \u001b[49m\u001b[43m[\u001b[49m\u001b[43mfunc\u001b[49m\u001b[43m(\u001b[49m\u001b[38;5;241;43m*\u001b[39;49m\u001b[43mx\u001b[49m\u001b[43m)\u001b[49m\u001b[43m \u001b[49m\u001b[38;5;28;43;01mfor\u001b[39;49;00m\u001b[43m \u001b[49m\u001b[43mx\u001b[49m\u001b[43m \u001b[49m\u001b[38;5;129;43;01min\u001b[39;49;00m\u001b[43m \u001b[49m\u001b[43mentries\u001b[49m\u001b[43m]\u001b[49m\u001b[43m,\u001b[49m\n\u001b[1;32m    918\u001b[0m \u001b[43m    \u001b[49m\u001b[43mexpand_composites\u001b[49m\u001b[38;5;241;43m=\u001b[39;49m\u001b[43mexpand_composites\u001b[49m\u001b[43m)\u001b[49m\n",
      "File \u001b[0;32m~/Software/miniforge3/envs/ml/lib/python3.10/site-packages/tensorflow/python/util/nest.py:806\u001b[0m, in \u001b[0;36mpack_sequence_as\u001b[0;34m(structure, flat_sequence, expand_composites)\u001b[0m\n\u001b[1;32m    692\u001b[0m \u001b[38;5;129m@tf_export\u001b[39m(\u001b[38;5;124m\"\u001b[39m\u001b[38;5;124mnest.pack_sequence_as\u001b[39m\u001b[38;5;124m\"\u001b[39m)\n\u001b[1;32m    693\u001b[0m \u001b[38;5;28;01mdef\u001b[39;00m \u001b[38;5;21mpack_sequence_as\u001b[39m(structure, flat_sequence, expand_composites\u001b[38;5;241m=\u001b[39m\u001b[38;5;28;01mFalse\u001b[39;00m):\n\u001b[1;32m    694\u001b[0m \u001b[38;5;250m  \u001b[39m\u001b[38;5;124;03m\"\"\"Returns a given flattened sequence packed into a given structure.\u001b[39;00m\n\u001b[1;32m    695\u001b[0m \n\u001b[1;32m    696\u001b[0m \u001b[38;5;124;03m  Refer to [tf.nest](https://www.tensorflow.org/api_docs/python/tf/nest)\u001b[39;00m\n\u001b[0;32m   (...)\u001b[0m\n\u001b[1;32m    804\u001b[0m \u001b[38;5;124;03m    TypeError: `structure` is or contains a dict with non-sortable keys.\u001b[39;00m\n\u001b[1;32m    805\u001b[0m \u001b[38;5;124;03m  \"\"\"\u001b[39;00m\n\u001b[0;32m--> 806\u001b[0m   \u001b[38;5;28;01mreturn\u001b[39;00m \u001b[43m_pack_sequence_as\u001b[49m\u001b[43m(\u001b[49m\u001b[43mstructure\u001b[49m\u001b[43m,\u001b[49m\u001b[43m \u001b[49m\u001b[43mflat_sequence\u001b[49m\u001b[43m,\u001b[49m\u001b[43m \u001b[49m\u001b[43mexpand_composites\u001b[49m\u001b[43m)\u001b[49m\n",
      "File \u001b[0;32m~/Software/miniforge3/envs/ml/lib/python3.10/site-packages/tensorflow/python/util/nest.py:678\u001b[0m, in \u001b[0;36m_pack_sequence_as\u001b[0;34m(structure, flat_sequence, expand_composites, sequence_fn)\u001b[0m\n\u001b[1;32m    675\u001b[0m   \u001b[38;5;28;01mreturn\u001b[39;00m flat_sequence[\u001b[38;5;241m0\u001b[39m]\n\u001b[1;32m    677\u001b[0m \u001b[38;5;28;01mtry\u001b[39;00m:\n\u001b[0;32m--> 678\u001b[0m   final_index, packed \u001b[38;5;241m=\u001b[39m \u001b[43m_packed_nest_with_indices\u001b[49m\u001b[43m(\u001b[49m\u001b[43mstructure\u001b[49m\u001b[43m,\u001b[49m\u001b[43m \u001b[49m\u001b[43mflat_sequence\u001b[49m\u001b[43m,\u001b[49m\u001b[43m \u001b[49m\u001b[38;5;241;43m0\u001b[39;49m\u001b[43m,\u001b[49m\n\u001b[1;32m    679\u001b[0m \u001b[43m                                                  \u001b[49m\u001b[43mis_nested_fn\u001b[49m\u001b[43m,\u001b[49m\u001b[43m \u001b[49m\u001b[43msequence_fn\u001b[49m\u001b[43m)\u001b[49m\n\u001b[1;32m    680\u001b[0m   \u001b[38;5;28;01mif\u001b[39;00m final_index \u001b[38;5;241m<\u001b[39m \u001b[38;5;28mlen\u001b[39m(flat_sequence):\n\u001b[1;32m    681\u001b[0m     \u001b[38;5;28;01mraise\u001b[39;00m \u001b[38;5;167;01mIndexError\u001b[39;00m\n",
      "File \u001b[0;32m~/Software/miniforge3/envs/ml/lib/python3.10/site-packages/tensorflow/python/util/nest.py:640\u001b[0m, in \u001b[0;36m_packed_nest_with_indices\u001b[0;34m(structure, flat, index, is_nested_fn, sequence_fn)\u001b[0m\n\u001b[1;32m    638\u001b[0m packed \u001b[38;5;241m=\u001b[39m []\n\u001b[1;32m    639\u001b[0m sequence_fn \u001b[38;5;241m=\u001b[39m sequence_fn \u001b[38;5;129;01mor\u001b[39;00m _sequence_like\n\u001b[0;32m--> 640\u001b[0m \u001b[38;5;28;01mfor\u001b[39;00m s \u001b[38;5;129;01min\u001b[39;00m _yield_value(structure):\n\u001b[1;32m    641\u001b[0m   \u001b[38;5;28;01mif\u001b[39;00m is_nested_fn(s):\n\u001b[1;32m    642\u001b[0m     new_index, child \u001b[38;5;241m=\u001b[39m _packed_nest_with_indices(s, flat, index, is_nested_fn,\n\u001b[1;32m    643\u001b[0m                                                  sequence_fn)\n",
      "File \u001b[0;32m~/Software/miniforge3/envs/ml/lib/python3.10/site-packages/tensorflow/python/util/nest.py:257\u001b[0m, in \u001b[0;36m_yield_value\u001b[0;34m(iterable)\u001b[0m\n\u001b[1;32m    256\u001b[0m \u001b[38;5;28;01mdef\u001b[39;00m \u001b[38;5;21m_yield_value\u001b[39m(iterable):\n\u001b[0;32m--> 257\u001b[0m   \u001b[38;5;28;01mfor\u001b[39;00m _, v \u001b[38;5;129;01min\u001b[39;00m _yield_sorted_items(iterable):\n\u001b[1;32m    258\u001b[0m     \u001b[38;5;28;01myield\u001b[39;00m v\n",
      "File \u001b[0;32m~/Software/miniforge3/envs/ml/lib/python3.10/site-packages/tensorflow/python/util/nest.py:277\u001b[0m, in \u001b[0;36m_yield_sorted_items\u001b[0;34m(iterable)\u001b[0m\n\u001b[1;32m    262\u001b[0m \u001b[38;5;250m\u001b[39m\u001b[38;5;124;03m\"\"\"Yield (key, value) pairs for `iterable` in a deterministic order.\u001b[39;00m\n\u001b[1;32m    263\u001b[0m \n\u001b[1;32m    264\u001b[0m \u001b[38;5;124;03mFor Sequences, the key will be an int, the array index of a value.\u001b[39;00m\n\u001b[0;32m   (...)\u001b[0m\n\u001b[1;32m    274\u001b[0m \u001b[38;5;124;03m  The iterable's (key, value) pairs, in order of sorted keys.\u001b[39;00m\n\u001b[1;32m    275\u001b[0m \u001b[38;5;124;03m\"\"\"\u001b[39;00m\n\u001b[1;32m    276\u001b[0m \u001b[38;5;66;03m# Ordered to check common structure types (list, tuple, dict) first.\u001b[39;00m\n\u001b[0;32m--> 277\u001b[0m \u001b[38;5;28;01mif\u001b[39;00m \u001b[38;5;28;43misinstance\u001b[39;49m\u001b[43m(\u001b[49m\u001b[43miterable\u001b[49m\u001b[43m,\u001b[49m\u001b[43m \u001b[49m\u001b[38;5;28;43mlist\u001b[39;49m\u001b[43m)\u001b[49m:\n\u001b[1;32m    278\u001b[0m   \u001b[38;5;28;01mfor\u001b[39;00m item \u001b[38;5;129;01min\u001b[39;00m \u001b[38;5;28menumerate\u001b[39m(iterable):\n\u001b[1;32m    279\u001b[0m     \u001b[38;5;28;01myield\u001b[39;00m item\n",
      "\u001b[0;31mKeyboardInterrupt\u001b[0m: "
     ]
    }
   ],
   "source": [
    "tuner = keras_tuner.Hyperband(\n",
    "    hypermodel=build_model,\n",
    "    objective=\"val_accuracy\",\n",
    "    overwrite=True,\n",
    "    directory=\"/tmp/kerastuner\",\n",
    "    project_name=\"hotel\",\n",
    ")\n",
    "tuner.search_space_summary()\n",
    "\n",
    "tuner.search(X_train, y_train, validation_data=(X_valid, y_valid))"
   ]
  },
  {
   "cell_type": "code",
   "execution_count": 16,
   "metadata": {},
   "outputs": [
    {
     "ename": "AttributeError",
     "evalue": "module 'tensorflow' has no attribute 'set_seed'",
     "output_type": "error",
     "traceback": [
      "\u001b[0;31m---------------------------------------------------------------------------\u001b[0m",
      "\u001b[0;31mAttributeError\u001b[0m                            Traceback (most recent call last)",
      "Cell \u001b[0;32mIn[16], line 19\u001b[0m\n\u001b[1;32m     11\u001b[0m     model\u001b[38;5;241m.\u001b[39mcompile(\n\u001b[1;32m     12\u001b[0m         optimizer\u001b[38;5;241m=\u001b[39m\u001b[38;5;124m\"\u001b[39m\u001b[38;5;124madam\u001b[39m\u001b[38;5;124m\"\u001b[39m,\n\u001b[1;32m     13\u001b[0m         loss\u001b[38;5;241m=\u001b[39m\u001b[38;5;124m\"\u001b[39m\u001b[38;5;124mbinary_crossentropy\u001b[39m\u001b[38;5;124m\"\u001b[39m,\n\u001b[1;32m     14\u001b[0m         metrics\u001b[38;5;241m=\u001b[39m[\u001b[38;5;124m\"\u001b[39m\u001b[38;5;124maccuracy\u001b[39m\u001b[38;5;124m\"\u001b[39m],\n\u001b[1;32m     15\u001b[0m     )\n\u001b[1;32m     17\u001b[0m     \u001b[38;5;28;01mreturn\u001b[39;00m model\n\u001b[0;32m---> 19\u001b[0m \u001b[43mtf\u001b[49m\u001b[38;5;241;43m.\u001b[39;49m\u001b[43mset_seed\u001b[49m(\u001b[38;5;241m17\u001b[39m)\n\u001b[1;32m     20\u001b[0m m \u001b[38;5;241m=\u001b[39m final_model()\n\u001b[1;32m     21\u001b[0m m\u001b[38;5;241m.\u001b[39mfit(X_train, y_train, validation_split\u001b[38;5;241m=\u001b[39m\u001b[38;5;241m0.15\u001b[39m, epochs\u001b[38;5;241m=\u001b[39m\u001b[38;5;241m100\u001b[39m, callbacks\u001b[38;5;241m=\u001b[39m[tf\u001b[38;5;241m.\u001b[39mkeras\u001b[38;5;241m.\u001b[39mcallbacks\u001b[38;5;241m.\u001b[39mEarlyStopping(patience\u001b[38;5;241m=\u001b[39m\u001b[38;5;241m10\u001b[39m, restore_best_weights\u001b[38;5;241m=\u001b[39m\u001b[38;5;28;01mTrue\u001b[39;00m)])\n",
      "\u001b[0;31mAttributeError\u001b[0m: module 'tensorflow' has no attribute 'set_seed'"
     ]
    }
   ],
   "source": [
    "def final_model():\n",
    "    model = tf.keras.Sequential()\n",
    "\n",
    "    model.add(layers.Dense(units=140, activation=\"relu\"))\n",
    "    model.add(layers.Dropout(0.2))    \n",
    "    model.add(layers.Dense(units=60,activation=\"leaky_relu\"))\n",
    "    model.add(layers.Dense(1, activation=\"sigmoid\"))\n",
    "    \n",
    "\n",
    "        \n",
    "    model.compile(\n",
    "        optimizer=\"adam\",\n",
    "        loss=\"binary_crossentropy\",\n",
    "        metrics=[\"accuracy\"],\n",
    "    )\n",
    "     \n",
    "    return model\n",
    "\n",
    "m = final_model()\n",
    "m.fit(X_train, y_train, validation_split=0.15, epochs=100, callbacks=[tf.keras.callbacks.EarlyStopping(patience=10, restore_best_weights=True)])"
   ]
  },
  {
   "cell_type": "code",
   "execution_count": 17,
   "metadata": {},
   "outputs": [],
   "source": [
    "# Evaluation on test set\n",
    "df2 = pd.read_csv('../data/hotel_test.csv')\n",
    "\n",
    "X = df2.copy()\n",
    "y_test = X.pop('is_canceled') # this is the target column\n",
    "\n",
    "\n",
    "X['arrival_date_month'] = \\\n",
    "    X['arrival_date_month'].map(\n",
    "        {'January':1, 'February': 2, 'March':3,\n",
    "         'April':4, 'May':5, 'June':6, 'July':7,\n",
    "         'August':8, 'September':9, 'October':10,\n",
    "         'November':11, 'December':12}\n",
    "    )\n",
    "\n",
    "#X['meal'] = X['meal'].replace(['Undefined'], 'SC')\n",
    "X[\"international\"] = X.country==\"PRT\"\n",
    "X.drop(columns=[ \"country\"], inplace=True)\n",
    "\n",
    "X['kids'] = X['babies'] + X['children']\n",
    "X['total_stay'] = X['stays_in_week_nights'] + X['stays_in_weekend_nights']\n",
    "X['prev_canc'] = (X['previous_cancellations']>0).astype(int)\n",
    "X.drop(columns=[\"babies\",\"children\",\"meal\"], inplace=True)\n",
    "\n",
    "\n",
    "X_test = preprocessor.transform(X)"
   ]
  },
  {
   "cell_type": "code",
   "execution_count": 18,
   "metadata": {},
   "outputs": [
    {
     "name": "stdout",
     "output_type": "stream",
     "text": [
      "747/747 [==============================] - 0s 472us/step - loss: 0.2912 - accuracy: 0.8734\n"
     ]
    },
    {
     "data": {
      "text/plain": [
       "[0.2911970615386963, 0.8733981251716614]"
      ]
     },
     "execution_count": 18,
     "metadata": {},
     "output_type": "execute_result"
    }
   ],
   "source": [
    "m.evaluate(X_test, y_test)"
   ]
  }
 ],
 "metadata": {
  "jupytext": {
   "cell_metadata_filter": "-all",
   "formats": "ipynb"
  },
  "kernelspec": {
   "display_name": "Python 3 (ipykernel)",
   "language": "python",
   "name": "python3"
  },
  "language_info": {
   "codemirror_mode": {
    "name": "ipython",
    "version": 3
   },
   "file_extension": ".py",
   "mimetype": "text/x-python",
   "name": "python",
   "nbconvert_exporter": "python",
   "pygments_lexer": "ipython3",
   "version": "3.10.12"
  }
 },
 "nbformat": 4,
 "nbformat_minor": 4
}
