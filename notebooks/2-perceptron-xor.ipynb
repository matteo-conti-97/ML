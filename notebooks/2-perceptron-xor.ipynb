{
 "cells": [
  {
   "cell_type": "markdown",
   "id": "f5259f21-8fd3-4846-8582-8099557fa31a",
   "metadata": {},
   "source": [
    "# Perceptron and the XOR function\n",
    "\n",
    "We aim to train a Perceptron to learn the XOR function.\n",
    "\n"
   ]
  },
  {
   "cell_type": "code",
   "execution_count": 1,
   "id": "88e1c24f-d081-4688-80f2-3520f4a255d3",
   "metadata": {},
   "outputs": [],
   "source": [
    "import numpy as np\n",
    "from sklearn.metrics import accuracy_score\n",
    "\n",
    "# In this trivial example, the training set contains all the possible input configurations\n",
    "X = np.array([[0,0], [0,1], [1,0], [1,1]])\n",
    "y = np.array([0,1,1,0])\n"
   ]
  },
  {
   "cell_type": "markdown",
   "id": "0120af1b-ec32-49b0-929a-0dff23a182c7",
   "metadata": {},
   "source": [
    "Let's visualize the training set"
   ]
  },
  {
   "cell_type": "code",
   "execution_count": 3,
   "id": "9d682ac7-bdb8-478a-aeb4-5975a3d4c84f",
   "metadata": {},
   "outputs": [
    {
     "data": {
      "image/png": "[encoded data removed]",
      "text/plain": [
       "<Figure size 640x480 with 1 Axes>"
      ]
     },
     "metadata": {},
     "output_type": "display_data"
    }
   ],
   "source": [
    "import matplotlib.pyplot as plt\n",
    "import seaborn as sns\n",
    "\n",
    "cmap_bold = [\"blue\", \"red\"]\n",
    "\n",
    "_, ax = plt.subplots()\n",
    "\n",
    "ax.set_xlabel(\"x1\")\n",
    "ax.set_ylabel(\"x2\")\n",
    "\n",
    "# Plot also the training points\n",
    "sns.scatterplot(\n",
    "    x=X[:, 0],\n",
    "    y=X[:, 1],\n",
    "    palette=cmap_bold,\n",
    "    hue=y,\n",
    "    s=190,\n",
    "    alpha=1.0,\n",
    "    edgecolor=\"black\",\n",
    ")\n",
    "plt.title(\n",
    "    \"XOR\"\n",
    ")\n",
    "\n",
    "plt.show()\n"
   ]
  },
  {
   "cell_type": "code",
   "execution_count": 4,
   "id": "6bbd6095-cf87-45ba-856d-8aeaa109d108",
   "metadata": {},
   "outputs": [
    {
     "name": "stdout",
     "output_type": "stream",
     "text": [
      "Weights: [[0. 0.]]\n",
      "Bias: [0.]\n",
      "Training Set Accuracy: 50.00\n",
      "Predicted values:\n"
     ]
    },
    {
     "data": {
      "text/plain": [
       "array([0, 0, 0, 0])"
      ]
     },
     "metadata": {},
     "output_type": "display_data"
    }
   ],
   "source": [
    "from sklearn.linear_model import Perceptron\n",
    "\n",
    "per_clf = Perceptron()\n",
    "per_clf.fit(X, y)\n",
    "\n",
    "print(f\"Weights: {per_clf.coef_}\")\n",
    "print(f\"Bias: {per_clf.intercept_}\")\n",
    "\n",
    "acc = accuracy_score(per_clf.predict(X), y)\n",
    "print(f\"Training Set Accuracy: {100*acc:.2f}\")\n",
    "\n",
    "print(\"Predicted values:\")\n",
    "display(per_clf.predict(X))\n"
   ]
  }
 ],
 "metadata": {
  "kernelspec": {
   "display_name": "Python 3 (ipykernel)",
   "language": "python",
   "name": "python3"
  },
  "language_info": {
   "codemirror_mode": {
    "name": "ipython",
    "version": 3
   },
   "file_extension": ".py",
   "mimetype": "text/x-python",
   "name": "python",
   "nbconvert_exporter": "python",
   "pygments_lexer": "ipython3",
   "version": "3.10.12"
  }
 },
 "nbformat": 4,
 "nbformat_minor": 5
}
